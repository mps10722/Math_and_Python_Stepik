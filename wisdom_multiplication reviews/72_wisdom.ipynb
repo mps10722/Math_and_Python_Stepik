{
 "cells": [
  {
   "cell_type": "code",
   "execution_count": 1,
   "metadata": {
    "scrolled": false
   },
   "outputs": [
    {
     "name": "stdout",
     "output_type": "stream",
     "text": [
      "Таблица умножения двузначных чисел.\n",
      "Фон ячеек: Зеленый - схема от \"Мудреца\" работает, Желтый - необходима проверка на \"0\" между парами чисел.\n"
     ]
    }
   ],
   "source": [
    "import pandas as pd\n",
    "from collections import defaultdict\n",
    "\n",
    "\n",
    "def wisdom_multiplication(x, y, length_check=True):\n",
    "    # Функция реализующую умножение по схеме \"мудреца\" с конкатенацией.\n",
    "    # Взята из задания https://stepik.org/lesson/240851/step/7?unit=213481\n",
    "    firstpair = str(100 - ((100 - x) + (100 - y)))\n",
    "    secondpair = str((100 - x) * (100 - y))\n",
    "    if length_check and len(secondpair) == 1: secondpair = '0' + secondpair\n",
    "    return int(firstpair + secondpair)\n",
    "\n",
    "\n",
    "def color_cell(val):\n",
    "    # Функция возвращает цвет фона ячейки провверяемого произведения, вызывается из стайлера\n",
    "    xy = int(val.split('=')[1])                     # выделение произведения числе\n",
    "    x, y = map(int, val.split('=')[0].split('x'))   # выделение множителей\n",
    "    background_color = ''                           # фон по умолчанию\n",
    "    if wisdom_multiplication(x, y) == xy:           # проверка произведения по схеме \"мудреца\"\n",
    "        if wisdom_multiplication(x, y, length_check=False) == xy:   # схема от \"Мудреца\" работает\n",
    "            background_color = 'background-color: #00FF00'          # Фон ячеек: Зеленый\n",
    "        else:                                                       # Необходима проверка на \"0\" между парами чисел\n",
    "            background_color = 'background-color: #FFFF00'          # Фон ячеек: Зеленый\n",
    "    return background_color\n",
    "\n",
    "# создание словаря-массива с таблицей умножения двухзначных чисел\n",
    "y,dy = 10, 90\n",
    "x,dx = 10, 90\n",
    "dct = defaultdict(list)\n",
    "for i in range(x, x+dx):\n",
    "    for j in range(y, y+dy):\n",
    "        dct[str(i)].append(f'{j}x{i}={j*i}')\n",
    "        \n",
    "# создание датафрейма из словаря с индексами строк\n",
    "df = pd.DataFrame(dct, index=[str(c) for c in range(y, y+dy)])\n",
    "\n",
    "head_txt = ['Таблица умножения двузначных чисел.',\n",
    "            'Фон ячеек: Зеленый - схема от \"Мудреца\" работает, Желтый - необходима проверка на \"0\" между парами чисел.']\n",
    "print(*head_txt,sep='\\n')                   # печать заголовка\n",
    "\n",
    "pd.set_option('display.max_rows', 99)       # увеличения лимита отображаемых строк\n",
    "pd.set_option('display.max_columns', 99)    # увеличения лимита отображаемых столбцов\n",
    "df.style                                    # применерие к датафрейму стиля по умолчанию\n",
    "dfs = df.style.applymap(color_cell)         # раскраска таблицы с помощью стайлера - передается имя функции\n",
    "dfs                                         # отображение таблицы в Jupyter Notebook\n",
    "\n",
    "# выгрузка в html (для выгрузки раскомментарить эту секцию, для отображения в в Jupyter Notebook - закомментарить)\n",
    "# формирование текста с html из датафрейма с применением стайлера\n",
    "html = (\n",
    "        df.style\n",
    "        .applymap(color_cell)\n",
    "        .render()\n",
    "        )\n",
    "# запись в файл заголовка таблицы и данных из датафрейма\n",
    "# файл создается в каталоге со скриптами по умолчанию\n",
    "with open(\"72_wisdom.html\", \"w\") as ouf:\n",
    "    # запись в файл заголовка\n",
    "    ouf.write(\"<html><body lang=RU style='tab-interval:30pt'>\")\n",
    "    ouf.write(f\"<p class=MsoNormal><span style='font-size:18.0pt'>{head_txt[0]}</span></p>\")\n",
    "    ouf.write(f\"<p class=MsoNormal><span style='font-size:14.0pt'>{head_txt[1]}</span></p>\")\n",
    "    ouf.write(\"</body>\")\n",
    "    ouf.write(html)         # запись в файл текста из датафрейма\n",
    "    ouf.write('</html>')\n"
   ]
  },
  {
   "cell_type": "code",
   "execution_count": null,
   "metadata": {},
   "outputs": [],
   "source": []
  }
 ],
 "metadata": {
  "kernelspec": {
   "display_name": "Python 3",
   "language": "python",
   "name": "python3"
  },
  "language_info": {
   "codemirror_mode": {
    "name": "ipython",
    "version": 3
   },
   "file_extension": ".py",
   "mimetype": "text/x-python",
   "name": "python",
   "nbconvert_exporter": "python",
   "pygments_lexer": "ipython3",
   "version": "3.9.5"
  }
 },
 "nbformat": 4,
 "nbformat_minor": 2
}
