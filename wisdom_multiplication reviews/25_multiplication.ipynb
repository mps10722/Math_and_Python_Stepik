{
 "cells": [
  {
   "cell_type": "code",
   "execution_count": 1,
   "metadata": {},
   "outputs": [],
   "source": [
    "import numpy as np\n",
    "import pandas as pd\n",
    "\n",
    "\n",
    "def wisdom_multiplication(x, y, length_check): #returns concatenated \"wisdom \"multiplication result, with or without intermediate 0 added\n",
    "    first_half = str(100 - ((100 - x) + (100 - y)))\n",
    "    second_half = str((100 - x) * (100 - y))\n",
    "    if len(second_half) < 2 and length_check == True: #applies the parameter that adds zero if the second part of a number is too short\n",
    "        second_half = '0' + second_half\n",
    "    return int(first_half + second_half)\n",
    "\n",
    "def multiplication_check(x, y, length_check): #returns TRUE if \"wisdom\" multiplication result matches that of ordinary multiplication, else returns FALSE\n",
    "    return wisdom_multiplication(x, y, length_check) == x * y\n",
    "\n",
    "def mask_true(start, stop): #creates a fictionary with 4 parameters - coordinates of the cell and background colour map - with RED if multiplication does not work, \n",
    "    #ORANGE if it works with length_check = true and GREEN if it always works\n",
    "    data_mapped = []\n",
    "    for i in range(start, stop + 1):\n",
    "        for j in range(start, stop + 1):\n",
    "            data_mapped.append({\n",
    "                \"row\": i,\n",
    "                \"column\": j,\n",
    "                \"value\": f\"{i}x{j}\",\n",
    "                \"color\": f'background-color: {\"#5fba7d\" if multiplication_check(i, j, length_check = False) else (\"orange\" if multiplication_check(i, j, length_check = True) else \"#d65f5f\")}'\n",
    "            })\n",
    "    return data_mapped\n",
    "\n",
    "def magnify(): #optional function, specifies table dimensions and uses CSS selectors to enlarge various cells of the table\n",
    "    return [dict(selector=\"th\",\n",
    "                 props=[(\"font-size\", \"7pt\")]),\n",
    "            dict(selector=\"td\",\n",
    "                 props=[('padding', \"0em 0em\")]),\n",
    "            dict(selector=\"th:hover\",\n",
    "                 props=[(\"font-size\", \"20pt\")]),\n",
    "            dict(selector=\"tr:hover td:hover\",\n",
    "                 props=[('max-width', '200px'),\n",
    "                        ('font-size', '20pt')]),\n",
    "            dict(selector='caption',\n",
    "                 props=[('font-size', '10pt')])\n",
    "            ]\n",
    "\n",
    "def main(start, stop):\n",
    "    mapped_frame = pd.DataFrame(mask_true(start, stop)) #creates PD dataframe from data_mapped dictionary\n",
    "    result = mapped_frame.pivot(\"row\", \"column\", \"value\").style.apply(lambda x: mapped_frame.pivot(\"row\", \"column\", \"color\"), axis=None)\\\n",
    "    .set_properties(**{'max-width': '80px', 'font-size': '4pt'})\\\n",
    "    .set_caption(f\"Multiplication table for numbers from {start} to {stop}\")\\\n",
    "    .set_table_styles(magnify())\n",
    "    return result                                                        \n",
    "\n",
    "with open(\"25_multiplication.html\",\"w\") as fp: #writes result to .html files\n",
    "    fp.write(main(10, 99).render())"
   ]
  }
 ],
 "metadata": {
  "kernelspec": {
   "display_name": "Python 3",
   "language": "python",
   "name": "python3"
  },
  "language_info": {
   "codemirror_mode": {
    "name": "ipython",
    "version": 3
   },
   "file_extension": ".py",
   "mimetype": "text/x-python",
   "name": "python",
   "nbconvert_exporter": "python",
   "pygments_lexer": "ipython3",
   "version": "3.9.5"
  }
 },
 "nbformat": 4,
 "nbformat_minor": 4
}
