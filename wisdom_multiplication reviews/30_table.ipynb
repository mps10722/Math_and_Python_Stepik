{
 "cells": [
  {
   "cell_type": "code",
   "execution_count": 1,
   "metadata": {
    "ExecuteTime": {
     "end_time": "2019-07-09T16:24:24.870952Z",
     "start_time": "2019-07-09T16:24:24.848952Z"
    }
   },
   "outputs": [
    {
     "ename": "ModuleNotFoundError",
     "evalue": "No module named 'jupyterthemes'",
     "output_type": "error",
     "traceback": [
      "\u001b[1;31m---------------------------------------------------------------------------\u001b[0m",
      "\u001b[1;31mModuleNotFoundError\u001b[0m                       Traceback (most recent call last)",
      "\u001b[1;32m<ipython-input-1-e468572a8385>\u001b[0m in \u001b[0;36m<module>\u001b[1;34m\u001b[0m\n\u001b[0;32m      3\u001b[0m \u001b[1;32mimport\u001b[0m \u001b[0mpandas\u001b[0m \u001b[1;32mas\u001b[0m \u001b[0mpd\u001b[0m\u001b[1;33m\u001b[0m\u001b[1;33m\u001b[0m\u001b[0m\n\u001b[0;32m      4\u001b[0m \u001b[1;33m\u001b[0m\u001b[0m\n\u001b[1;32m----> 5\u001b[1;33m \u001b[1;32mfrom\u001b[0m \u001b[0mjupyterthemes\u001b[0m \u001b[1;32mimport\u001b[0m \u001b[0mjtplot\u001b[0m\u001b[1;33m\u001b[0m\u001b[1;33m\u001b[0m\u001b[0m\n\u001b[0m\u001b[0;32m      6\u001b[0m \u001b[1;32mfrom\u001b[0m \u001b[0mmatplotlib\u001b[0m\u001b[1;33m.\u001b[0m\u001b[0manimation\u001b[0m \u001b[1;32mimport\u001b[0m \u001b[0mFuncAnimation\u001b[0m\u001b[1;33m\u001b[0m\u001b[1;33m\u001b[0m\u001b[0m\n\u001b[0;32m      7\u001b[0m \u001b[1;33m\u001b[0m\u001b[0m\n",
      "\u001b[1;31mModuleNotFoundError\u001b[0m: No module named 'jupyterthemes'"
     ]
    }
   ],
   "source": [
    "import matplotlib.pyplot as plt\n",
    "import numpy as np\n",
    "import pandas as pd\n",
    "import seaborn as sns\n",
    "\n",
    "from jupyterthemes import jtplot\n",
    "from matplotlib.animation import FuncAnimation\n",
    "\n",
    "%matplotlib inline\n",
    "\n",
    "jtplot.style(theme='chesterish', context='poster', fscale=1.4, figsize=(\n",
    "    10, 10), spines=True, gridlines=':', ticks=True)\n",
    "np.set_printoptions(precision=32, suppress=True)\n",
    "\n",
    "# from matplotlib import rc\n",
    "# rc('axes', linewidth=2, labelcolor ='gray', edgecolor='gray')\n",
    "# rc('xtick', color='gray')\n",
    "# rc('ytick', color='gray')\n",
    "# print(plt.subplots_adjust.__doc__)"
   ]
  },
  {
   "cell_type": "markdown",
   "metadata": {},
   "source": [
    "Зададим диапазон таблицы"
   ]
  },
  {
   "cell_type": "code",
   "execution_count": null,
   "metadata": {
    "ExecuteTime": {
     "end_time": "2019-07-09T16:24:25.190974Z",
     "start_time": "2019-07-09T16:24:25.186960Z"
    }
   },
   "outputs": [],
   "source": [
    "n = 10\n",
    "m = 99\n",
    "diapason = np.arange(n, m+1)"
   ]
  },
  {
   "cell_type": "markdown",
   "metadata": {},
   "source": [
    "Создадим таблицу в каждой из ячеек которой находится массив множителей"
   ]
  },
  {
   "cell_type": "code",
   "execution_count": null,
   "metadata": {
    "ExecuteTime": {
     "end_time": "2019-07-09T16:24:25.634992Z",
     "start_time": "2019-07-09T16:24:25.535986Z"
    }
   },
   "outputs": [],
   "source": [
    "data = pd.DataFrame([[[i,j] for i in diapason] for j in diapason], columns=diapason, index=diapason)\n",
    "data.head()"
   ]
  },
  {
   "cell_type": "markdown",
   "metadata": {},
   "source": [
    "Определим функции:\n",
    "        \n",
    "    1) Вычисление \"методом мудреца\"\n",
    "    2) Проверка данного вычисления путем сравнения с обычным произведением"
   ]
  },
  {
   "cell_type": "code",
   "execution_count": null,
   "metadata": {
    "ExecuteTime": {
     "end_time": "2019-07-09T16:24:25.896008Z",
     "start_time": "2019-07-09T16:24:25.886013Z"
    }
   },
   "outputs": [],
   "source": [
    "def wisdom_multiplication(x, y, length_check):\n",
    "    start = 100 - ((100 - x) + (100 - y))\n",
    "    end = (100 - x) * (100 - y)\n",
    "    return int(str(start)+'0'+str(end)) if length_check and len(str(end)) < 2 else int(str(start)+str(end)) if length_check else int(str(start)+str(end))\n",
    "\n",
    "\n",
    "def multiplication_check(x, y, length_check):\n",
    "    #print(x*y, wisdom_multiplication(x,y,length_check))\n",
    "    return wisdom_multiplication(x, y, length_check) == x*y"
   ]
  },
  {
   "cell_type": "markdown",
   "metadata": {},
   "source": [
    "Применим проверку для таблицы. В зависимости от ответа выделим каждую ячейку определенным цветом:\n",
    "\n",
    "    Зеленый, если метод работает без добавления нуля\n",
    "    Желтый, если метод работает с добавлением нуля\n",
    "    Красный, если метод не работает "
   ]
  },
  {
   "cell_type": "code",
   "execution_count": null,
   "metadata": {
    "ExecuteTime": {
     "end_time": "2019-07-09T16:24:26.166031Z",
     "start_time": "2019-07-09T16:24:26.161030Z"
    }
   },
   "outputs": [],
   "source": [
    "data = data.style.applymap(lambda x: 'background-color: green' if multiplication_check(x[0], x[1], False) else 'background-color: yellow' if multiplication_check(x[0], x[1], True) else 'background-color: red')"
   ]
  },
  {
   "cell_type": "code",
   "execution_count": null,
   "metadata": {
    "ExecuteTime": {
     "end_time": "2019-07-09T16:24:33.501021Z",
     "start_time": "2019-07-09T16:24:27.293554Z"
    }
   },
   "outputs": [],
   "source": [
    "data"
   ]
  },
  {
   "cell_type": "code",
   "execution_count": null,
   "metadata": {
    "ExecuteTime": {
     "end_time": "2019-07-09T16:24:58.568808Z",
     "start_time": "2019-07-09T16:24:51.453216Z"
    }
   },
   "outputs": [],
   "source": [
    "data.to_excel('30_table.xlsx')"
   ]
  }
 ],
 "metadata": {
  "kernelspec": {
   "display_name": "Python 3",
   "language": "python",
   "name": "python3"
  },
  "language_info": {
   "codemirror_mode": {
    "name": "ipython",
    "version": 3
   },
   "file_extension": ".py",
   "mimetype": "text/x-python",
   "name": "python",
   "nbconvert_exporter": "python",
   "pygments_lexer": "ipython3",
   "version": "3.9.5"
  },
  "varInspector": {
   "cols": {
    "lenName": 16,
    "lenType": 16,
    "lenVar": 40
   },
   "kernels_config": {
    "python": {
     "delete_cmd_postfix": "",
     "delete_cmd_prefix": "del ",
     "library": "var_list.py",
     "varRefreshCmd": "print(var_dic_list())"
    },
    "r": {
     "delete_cmd_postfix": ") ",
     "delete_cmd_prefix": "rm(",
     "library": "var_list.r",
     "varRefreshCmd": "cat(var_dic_list()) "
    }
   },
   "types_to_exclude": [
    "module",
    "function",
    "builtin_function_or_method",
    "instance",
    "_Feature"
   ],
   "window_display": false
  }
 },
 "nbformat": 4,
 "nbformat_minor": 2
}
