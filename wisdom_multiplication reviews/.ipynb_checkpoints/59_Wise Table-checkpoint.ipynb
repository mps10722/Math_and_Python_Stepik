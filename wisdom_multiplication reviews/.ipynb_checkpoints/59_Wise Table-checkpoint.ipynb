{
 "cells": [
  {
   "cell_type": "code",
   "execution_count": 23,
   "metadata": {},
   "outputs": [],
   "source": [
    "import pandas as pd\n",
    "import numpy as np\n",
    "\n",
    "# реализация умножения Мудреца через соединение (конкатенацию) двух строк \n",
    "def wisdom_multiplication(x, y, length_check = True):\n",
    "    last = str((100 - x) * (100 - y))\n",
    "    if length_check and len(last) == 1:\n",
    "        last = '0' + last\n",
    "    return str(x + y - 100) + last\n",
    "\n",
    "# проверка умножения Мудреца с проверкой на разделитель 0 внутри (length_check = True) и без (length_check = False)\n",
    "def wisdom_check(x, y, length_check = True):\n",
    "    if int(wisdom_multiplication(x, y, length_check)) == x * y:\n",
    "        return True\n",
    "    return False\n",
    "# функция раскраски ячеек при разных значениях wisdom_check\n",
    "def highlight(value):\n",
    "    val2 = list(map(int, value.split('x')))\n",
    "    if wisdom_check(val2[0], val2[1], False):\n",
    "        background_color = 'lawngreen'\n",
    "    elif wisdom_check(val2[0], val2[1], True):\n",
    "        background_color = 'springgreen'\n",
    "    else:\n",
    "        background_color = 'white'\n",
    "    return 'background-color: %s' % background_color\n",
    "\n",
    "cl_and_index_list = [i for i in range(10, 100)] # индексы строк и столбцов\n",
    "# создание таблицы умножения\n",
    "table_Mul = pd.DataFrame(\n",
    "    [[f'{i}x{j}' for i in range(10, 100)] for j in range(10, 100)],\n",
    "    columns=cl_and_index_list, index = cl_and_index_list)\n",
    "# окрашивание ячеек таблицы умножения\n",
    "hlTable = table_Mul.style.applymap(highlight)"
   ]
  },
  {
   "cell_type": "code",
   "execution_count": 25,
   "metadata": {},
   "outputs": [],
   "source": [
    "# запись таблицы в html-файл\n",
    "f = open('table.html', 'w')\n",
    "f.write(pd.io.formats.style.Styler.render(hlTable))\n",
    "f.close()"
   ]
  }
 ],
 "metadata": {
  "kernelspec": {
   "display_name": "Python 3",
   "language": "python",
   "name": "python3"
  },
  "language_info": {
   "codemirror_mode": {
    "name": "ipython",
    "version": 3
   },
   "file_extension": ".py",
   "mimetype": "text/x-python",
   "name": "python",
   "nbconvert_exporter": "python",
   "pygments_lexer": "ipython3",
   "version": "3.9.5"
  }
 },
 "nbformat": 4,
 "nbformat_minor": 4
}
