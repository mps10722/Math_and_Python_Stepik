{
 "cells": [
  {
   "cell_type": "code",
   "execution_count": 1,
   "metadata": {},
   "outputs": [],
   "source": [
    "import pandas as pd\n",
    "import numpy as np\n",
    "import matplotlib.pyplot as plt\n",
    "%matplotlib inline\n",
    "\n",
    "pd.set_option('display.max_rows', 500)\n",
    "pd.set_option('display.max_columns', 500)\n",
    "pd.set_option('display.width', 1000)"
   ]
  },
  {
   "cell_type": "code",
   "execution_count": 2,
   "metadata": {},
   "outputs": [
    {
     "ename": "NameError",
     "evalue": "name 'false' is not defined",
     "output_type": "error",
     "traceback": [
      "\u001b[1;31m---------------------------------------------------------------------------\u001b[0m",
      "\u001b[1;31mNameError\u001b[0m                                 Traceback (most recent call last)",
      "\u001b[1;32m<ipython-input-2-5a962e6708a3>\u001b[0m in \u001b[0;36m<module>\u001b[1;34m\u001b[0m\n\u001b[0;32m     25\u001b[0m \u001b[1;33m\u001b[0m\u001b[0m\n\u001b[0;32m     26\u001b[0m \u001b[1;33m\u001b[0m\u001b[0m\n\u001b[1;32m---> 27\u001b[1;33m \u001b[1;32mdef\u001b[0m \u001b[0mcolor_negative_red\u001b[0m\u001b[1;33m(\u001b[0m\u001b[0mval\u001b[0m\u001b[1;33m,\u001b[0m \u001b[0mfalse\u001b[0m \u001b[1;33m=\u001b[0m \u001b[0mfalse\u001b[0m\u001b[1;33m)\u001b[0m\u001b[1;33m:\u001b[0m\u001b[1;33m\u001b[0m\u001b[1;33m\u001b[0m\u001b[0m\n\u001b[0m\u001b[0;32m     28\u001b[0m     \"\"\"\n\u001b[0;32m     29\u001b[0m     \u001b[0mTakes\u001b[0m \u001b[0ma\u001b[0m \u001b[0mscalar\u001b[0m \u001b[1;32mand\u001b[0m \u001b[0mreturns\u001b[0m \u001b[0ma\u001b[0m \u001b[0mstring\u001b[0m \u001b[1;32mwith\u001b[0m\u001b[1;33m\u001b[0m\u001b[1;33m\u001b[0m\u001b[0m\n",
      "\u001b[1;31mNameError\u001b[0m: name 'false' is not defined"
     ]
    }
   ],
   "source": [
    "def wisdom_multiplication(x, y, length_check = True):\n",
    "    dx, dy = 100-x, 100-y            \n",
    "    step_3 = str(100 - sum([dx, dy]))\n",
    "    step_4 = str(dx * dy)\n",
    "    \n",
    "    if length_check:\n",
    "        step_4 = '0'+step_4 if len(step_4) == 1 else step_4\n",
    "        return int(''.join([step_3, step_4]))\n",
    "    else:\n",
    "        return int(''.join([step_3, step_4]))\n",
    "\n",
    "\n",
    "def multiplication_check_list(start=10, stop=99, length_check = True):\n",
    "    counter_true, counter_false = 0, 0  \n",
    "    idx_true, idx_false = [], []\n",
    "    for i in range(start, stop + 1):\n",
    "        for j in range(start, stop + 1):\n",
    "            if wisdom_multiplication(i, j, length_check) == i * j:\n",
    "                idx_true.append([i, j])\n",
    "                counter_true += 1\n",
    "            else:\n",
    "                idx_false.append([i, j])\n",
    "                counter_false += 1\n",
    "    return ['x'.join(list(map(str, row))) for row in idx_false]\n",
    "\n",
    "\n",
    "def color_negative_red(val, false = false):\n",
    "    \"\"\"\n",
    "    Takes a scalar and returns a string with\n",
    "    the css property `'color: red'` for negative\n",
    "    strings, black otherwise.\n",
    "    \"\"\"    \n",
    "    color = 'black' if val in False else 'red'\n",
    "    return 'color: %s' % color"
   ]
  },
  {
   "cell_type": "code",
   "execution_count": null,
   "metadata": {},
   "outputs": [],
   "source": [
    "# генерируем числа, запоминаем размер\n",
    "numbers, idx = np.arange(10, 100), len(numbers)\n",
    "\n",
    "# заполняем числами таблицу необходимого формата\n",
    "results = np.array(['{}x{}'.format(numbers[n], numbers[m]) for n in range(idx) for m in range(n, idx)])\n",
    "table = pd.DataFrame(results.reshape(results.shape[0] // 9, 9))\n",
    "\n",
    "# отмечаем, где схема мудреца не работает\n",
    "false = multiplication_check_list(start=10, stop=99, length_check = True)\n",
    "wisdom_wrong = table.style.applymap(color_negative_red)"
   ]
  },
  {
   "cell_type": "code",
   "execution_count": null,
   "metadata": {},
   "outputs": [],
   "source": [
    "wisdom_wrong\n"
   ]
  }
 ],
 "metadata": {
  "kernelspec": {
   "display_name": "Python 3",
   "language": "python",
   "name": "python3"
  },
  "language_info": {
   "codemirror_mode": {
    "name": "ipython",
    "version": 3
   },
   "file_extension": ".py",
   "mimetype": "text/x-python",
   "name": "python",
   "nbconvert_exporter": "python",
   "pygments_lexer": "ipython3",
   "version": "3.9.5"
  }
 },
 "nbformat": 4,
 "nbformat_minor": 2
}
