{
 "cells": [
  {
   "cell_type": "code",
   "execution_count": 1,
   "metadata": {},
   "outputs": [],
   "source": [
    "import pandas as pd\n",
    "#устанавливаем размер таблицы\n",
    "pd.set_option('display.max_rows', 10000)\n",
    "\n",
    "#на вход подаем строку вида \"XxY\"(прим: 23x48). Выход: True -  \"схема мудреца\" else False\n",
    "def multiplication_check(string):\n",
    "    x,y = map(int,string.split('x'))\n",
    "    return wisdom_multiplication(x,y) == x*y\n",
    "\n",
    "# Вычисление по \"схеме мудреца\"\n",
    "def wisdom_multiplication(x, y):\n",
    "    a=100-x\n",
    "    b=100-y\n",
    "    f1=str(100-a-b)\n",
    "    f2=str(a*b);\n",
    "    return int(f1+f2)\n",
    "\n",
    "#функция принимает на вход значение из таблицы и подсвечивает ячейку красным в таблицы если \"схема мудреца\" - не работает с данными значениями\n",
    "def highlight(val):\n",
    "    color = 'red' if multiplication_check(val) else ''\n",
    "    return 'background-color: %s' % color\n",
    "\n",
    "\n",
    "df = pd.DataFrame([])\n",
    "ls = []\n",
    "\n",
    "# проходим весь диапазон значений\n",
    "for x in range(10,100):\n",
    "    \n",
    "#создаем очередную строку в таблице и заполняем ее\n",
    "    newDfLine = []\n",
    "\n",
    "    for y in range(10,100):\n",
    "        newStr= str(x)+\"x\"+str(y)\n",
    "        newDfLine.append(newStr)\n",
    "        \n",
    "#добавляем строку в таблицу\n",
    "    newDf = pd.DataFrame([newDfLine])\n",
    "    df = df.append(newDf,ignore_index=True)\n",
    "    \n",
    "# смещаем индексыв таблице для наглядности\n",
    "df.index+=10\n",
    "df.columns+=10\n",
    "# принменяем окрашивание\n",
    "df = df.style.applymap(highlight)\n",
    "\n",
    "# сохраняем как html файл\n",
    "with open('37_result.html', 'w') as fo:\n",
    "    fo.write(df.render())\n"
   ]
  },
  {
   "cell_type": "code",
   "execution_count": null,
   "metadata": {},
   "outputs": [],
   "source": []
  }
 ],
 "metadata": {
  "kernelspec": {
   "display_name": "Python 3",
   "language": "python",
   "name": "python3"
  },
  "language_info": {
   "codemirror_mode": {
    "name": "ipython",
    "version": 3
   },
   "file_extension": ".py",
   "mimetype": "text/x-python",
   "name": "python",
   "nbconvert_exporter": "python",
   "pygments_lexer": "ipython3",
   "version": "3.9.5"
  }
 },
 "nbformat": 4,
 "nbformat_minor": 2
}
