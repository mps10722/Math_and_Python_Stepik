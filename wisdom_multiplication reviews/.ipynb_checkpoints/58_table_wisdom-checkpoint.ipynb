{
 "cells": [
  {
   "cell_type": "code",
   "execution_count": 1,
   "metadata": {},
   "outputs": [
    {
     "name": "stdout",
     "output_type": "stream",
     "text": [
      "Python version - 3.9.5\n"
     ]
    }
   ],
   "source": [
    "import sys\n",
    "print('Python version -', sys.version.split()[0])"
   ]
  },
  {
   "cell_type": "code",
   "execution_count": 2,
   "metadata": {},
   "outputs": [],
   "source": [
    "# ниже представлены четыре функции, использованные в задачах данной недели с небольшими изменения\n",
    "def simple_multiplication(x, y):\n",
    "    return (100-((100-x)+(100-y)))*100 + ((100-x)*(100-y))"
   ]
  },
  {
   "cell_type": "code",
   "execution_count": 3,
   "metadata": {},
   "outputs": [],
   "source": [
    "# проверка необходимого условия к числам\n",
    "def necessary_cond(x, y):\n",
    "    if x*y == simple_multiplication(x,y):\n",
    "        return True\n",
    "    else:\n",
    "        return False"
   ]
  },
  {
   "cell_type": "code",
   "execution_count": 4,
   "metadata": {},
   "outputs": [],
   "source": [
    "def complicated_multiplication(x, y, check):\n",
    "    step1 = str(100 - ((100-x)+(100-y)))\n",
    "    step2 = str((100-x)*(100-y))\n",
    "    if len(step2)==1:\n",
    "        return int(step1 +'0'+ step2)\n",
    "    else:\n",
    "        return int(step1 + step2)"
   ]
  },
  {
   "cell_type": "code",
   "execution_count": 5,
   "metadata": {},
   "outputs": [],
   "source": [
    "# проверка достаточного условия к числам\n",
    "def sufficient_cond(x, y, check):\n",
    "    if x*y == complicated_multiplication(x,y):\n",
    "        return True\n",
    "    else:\n",
    "        return False"
   ]
  },
  {
   "cell_type": "code",
   "execution_count": 6,
   "metadata": {},
   "outputs": [],
   "source": [
    "# В файл wisdom_table.html генерируется html код с таблицей, в которой ячейки удовлетворяющие достаточном условию\n",
    "# закрашены красным цветом, а удовлетворяющие необходимому - зеленым\n",
    "f = open('58_wisdom_table.html', 'w')\n",
    "print('''<!DOCTYPE HTML>\n",
    "<html>\n",
    "<body>\n",
    "<table>''', file=f)\n",
    "cnt = 0\n",
    "first_cell_flag = True\n",
    "first_line_flag = True\n",
    "for i in range(9, 100):\n",
    "    print('<tr>\\n', file=f)\n",
    "    if first_cell_flag:\n",
    "            print('<td>&nbsp;</td>', file=f)\n",
    "            first_cell_flag = False\n",
    "    else:\n",
    "        print('<th>'+str(i)+'</th>',file=f)\n",
    "    for j in range(10, 100):\n",
    "        if first_line_flag:\n",
    "            print('<th>'+str(j)+'</th>', file=f)\n",
    "        else:\n",
    "            # если выполнилось достаточное условие, красим в красный\n",
    "            if sufficient_cond(i,j, False):\n",
    "                print('<td bgcolor=\"#ff3333\">'+str(i)+'X'+str(j)+'</td>', file=f)\n",
    "            elif sufficient_cond(i,j, True):\n",
    "                print('<td bgcolor=\"#ffff00\">'+str(i)+'X'+str(j)+'</td>', file=f)\n",
    "            # если выполнилось необходимое условие, красим в зеленый\n",
    "            elif necessary_cond(i,j):\n",
    "                print('<td bgcolor=\"#33cc33\">'+str(i)+'X'+str(j)+'</td>', file=f)\n",
    "    first_line_flag = False\n",
    "    print('</tr>\\n', file=f)\n",
    "print('''</table>\n",
    "</body>\n",
    "</html>''', file=f)\n",
    "f.close()"
   ]
  }
 ],
 "metadata": {
  "kernelspec": {
   "display_name": "Python 3",
   "language": "python",
   "name": "python3"
  },
  "language_info": {
   "codemirror_mode": {
    "name": "ipython",
    "version": 3
   },
   "file_extension": ".py",
   "mimetype": "text/x-python",
   "name": "python",
   "nbconvert_exporter": "python",
   "pygments_lexer": "ipython3",
   "version": "3.9.5"
  }
 },
 "nbformat": 4,
 "nbformat_minor": 2
}
