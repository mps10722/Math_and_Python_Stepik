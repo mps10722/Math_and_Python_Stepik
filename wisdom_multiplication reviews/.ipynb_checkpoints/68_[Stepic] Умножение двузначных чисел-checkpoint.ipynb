{
 "cells": [
  {
   "cell_type": "code",
   "execution_count": 1,
   "metadata": {},
   "outputs": [],
   "source": [
    "def wisdom_multiplication(x, y, length_check=True):\n",
    "    '''\n",
    "    Умножение двузначных чисел от \"Мудреца\"\n",
    "    :param x: int - первое число \n",
    "    :param y: int - второе число\n",
    "    :param length_check: bool - флаг, обозначающий необходимость проверки на длину\n",
    "    :return: int - результат умножения \n",
    "    '''\n",
    "    a = 100 - x\n",
    "    b = 100 - y\n",
    "    return int(str(100-a-b) + '0'*(length_check and (a*b < 10)) + str(a*b))\n",
    "\n",
    "def multiplication_check_list(start=10, stop=99, length_check=True):\n",
    "    '''\n",
    "    Генерация таблицы, в которой будет отображена валидность умножения методом \"Мудреца\"\n",
    "    :param start: int - первое двузначное число\n",
    "    :param stop: int - второе двузначное число\n",
    "    :param length_check: bool - флаг, обозначающий необходимость проверки на длину\n",
    "    :return: dict - таблица, содержащая 1 в случае верного умножения, и 0 в противном случае \n",
    "    '''\n",
    "    # генерация словаря для создания таблицы с помощью pd.DataFrame\n",
    "    table = {j:{i:0 for i in range(start, stop+1)} for j in range(start, stop+1)}\n",
    "    \n",
    "    # заполнение таблицы \n",
    "    for i in range(start, stop+1):\n",
    "        for j in range(start, stop+1):\n",
    "            if wisdom_multiplication(i, j, True) == i*j:\n",
    "                table[i][j] = 2\n",
    "            elif wisdom_multiplication(i, j, False) == i*j:\n",
    "                table[i][j] = 1\n",
    "                \n",
    "    return table"
   ]
  },
  {
   "cell_type": "code",
   "execution_count": 2,
   "metadata": {},
   "outputs": [],
   "source": [
    "# подключение библиотеки и выставление необходимых параметров отображения\n",
    "import pandas as pd\n",
    "pd.set_option('display.max_rows', 89)\n",
    "pd.set_option('display.max_columns', 89)"
   ]
  },
  {
   "cell_type": "code",
   "execution_count": 3,
   "metadata": {},
   "outputs": [],
   "source": [
    "table = multiplication_check_list()"
   ]
  },
  {
   "cell_type": "code",
   "execution_count": 4,
   "metadata": {},
   "outputs": [],
   "source": [
    "data = pd.DataFrame(table)"
   ]
  },
  {
   "cell_type": "code",
   "execution_count": 5,
   "metadata": {},
   "outputs": [],
   "source": [
    "def val_color(val):\n",
    "    '''\n",
    "    :StyleMap: Если умножение валидно окрасить в красный, иначе в серый\n",
    "    '''\n",
    "    color = 'red' if val else 'yellow' if val == 2 else'grey'\n",
    "    return 'color: %s' % color"
   ]
  },
  {
   "cell_type": "code",
   "execution_count": 6,
   "metadata": {},
   "outputs": [],
   "source": [
    "def back_color(val):\n",
    "    '''\n",
    "    :StyleMap: Если умножение валидно окрасить в красный, иначе в серый \n",
    "    '''\n",
    "    color = 'red' if val else 'yellow' if val == 2 else 'grey'\n",
    "    return 'background-color: %s' % color"
   ]
  },
  {
   "cell_type": "code",
   "execution_count": 7,
   "metadata": {},
   "outputs": [],
   "source": [
    "s = data.style.applymap(val_color).applymap(back_color)\n",
    "t = s.render()"
   ]
  },
  {
   "cell_type": "code",
   "execution_count": 8,
   "metadata": {},
   "outputs": [],
   "source": [
    "# создание файла main.html и сохранение стилизованой таблицы в него \n",
    "with open('68_main.html', 'w') as f:\n",
    "    f.write(t)"
   ]
  },
  {
   "cell_type": "code",
   "execution_count": 9,
   "metadata": {},
   "outputs": [],
   "source": [
    "from IPython.display import display, HTML\n",
    "chart = HTML(t)\n",
    "# разкомментировать для отображения результата в ноутбуке\n",
    "# display(chart)"
   ]
  }
 ],
 "metadata": {
  "kernelspec": {
   "display_name": "Python 3",
   "language": "python",
   "name": "python3"
  },
  "language_info": {
   "codemirror_mode": {
    "name": "ipython",
    "version": 3
   },
   "file_extension": ".py",
   "mimetype": "text/x-python",
   "name": "python",
   "nbconvert_exporter": "python",
   "pygments_lexer": "ipython3",
   "version": "3.9.5"
  }
 },
 "nbformat": 4,
 "nbformat_minor": 4
}
