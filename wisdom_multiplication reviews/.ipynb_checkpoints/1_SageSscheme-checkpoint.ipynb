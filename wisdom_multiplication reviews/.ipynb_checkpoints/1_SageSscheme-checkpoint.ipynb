{
 "cells": [
  {
   "cell_type": "code",
   "execution_count": 1,
   "id": "7455cc9b",
   "metadata": {},
   "outputs": [],
   "source": [
    "import pandas as pd # импортируем модуль pandas\n",
    "\n",
    "\n",
    "'''\n",
    "Функция, которая перемножает двузначные числа по \"схеме Мудреца\",\n",
    "приписывая нужные значения одно к другому, работая с числами, как со строками.\n",
    "Пераметр length_check определяет, нужны ли дополнительная проверка длины второго получившегося числа\n",
    "и дописывание 0 в случае необходимости.\n",
    "'''\n",
    "def wisdom_multiplication(x, y, length_check=True):\n",
    "    a = 100 - x\n",
    "    b = 100 - y\n",
    "    num1 = str(100 - (a + b))\n",
    "    num2 = str(a * b)\n",
    "    if length_check and len(num2) == 1:\n",
    "        num2 = '0' + num2\n",
    "    return int(num1 + num2)\n",
    "\n",
    "\n",
    "'''\n",
    "Функция для определения цвета фона в получившейся таблице.\n",
    "На вход подается строковое значение талицы вида \"ААхВВ=С...С\"\n",
    "и проверяется, совпадает ли правильное значение от умножения АА на ВВ с полученым по \"схеме Мудреца\".\n",
    "Если не совпадает, фон остается прежним. \n",
    "Если совпадает и при этом не требуется дописывать дополнительный 0 (length_check=False),\n",
    "то цвет фона делаем желтым, а если требуется (length_check=True) то цвет фона делаем зеленым\n",
    "'''\n",
    "def back_color(val):\n",
    "    color = ''\n",
    "    if int(val[6:]) == wisdom_multiplication(int(val[0:2]), int(val[3:5]), length_check=False):\n",
    "        color = 'background-color: yellow'\n",
    "    elif int(val[6:]) == wisdom_multiplication(int(val[0:2]), int(val[3:5]), length_check=True):\n",
    "        color = 'background-color: green'\n",
    "    return color\n",
    "\n",
    "'''Создаем ДатаФрэйм нужного размера и с нужными названиями строк и столбцов'''\n",
    "df = pd.DataFrame(data=None, index=range(10, 100), columns=range(10, 100))\n",
    "\n",
    "'''Заполняем ДатаФрэйм значениями вида \"ААхВВ=С...С\"   '''\n",
    "for i in range(10,100):\n",
    "    for j in range(10,100):\n",
    "        df.loc[i, j] = str(i) + 'x' + str(j) + '=' + str(i * j)\n",
    "\n",
    "'''\n",
    "Создаем файл и записываем в него нашу таблицу, отформатированную нужным образом по цветам фона.\n",
    "Без фона - схема не работает\n",
    "Желтый фон - схема работает без необходимости дописывать дополнительный 0\n",
    "Зеленый фон - схема работает, но необходимо дописывать дополнительный 0\n",
    "'''\n",
    "with open('Multiplication_table.html', 'w') as f:\n",
    "    f.write(df.style.applymap(lambda x: back_color(x)).render())\n",
    "    "
   ]
  },
  {
   "cell_type": "code",
   "execution_count": null,
   "id": "4c86d1b3",
   "metadata": {},
   "outputs": [],
   "source": []
  }
 ],
 "metadata": {
  "kernelspec": {
   "display_name": "Python 3",
   "language": "python",
   "name": "python3"
  },
  "language_info": {
   "codemirror_mode": {
    "name": "ipython",
    "version": 3
   },
   "file_extension": ".py",
   "mimetype": "text/x-python",
   "name": "python",
   "nbconvert_exporter": "python",
   "pygments_lexer": "ipython3",
   "version": "3.9.5"
  }
 },
 "nbformat": 4,
 "nbformat_minor": 5
}
