{
 "cells": [
  {
   "cell_type": "code",
   "execution_count": 312,
   "metadata": {},
   "outputs": [],
   "source": [
    "import pandas #Импортируем pandas для работы с таблицами\n",
    "pd.set_option('display.max_columns', 89) # Устанавливаем количество колонок\n",
    "pd.set_option('display.max_rows', 89) # Устанавливаем количество строк\n",
    "\n",
    "def wisdom_multiplication(x, y, length_check = True): # Реализация \"упрощённого\" умножения больших двузначных чисел\n",
    "    x, y = 100-x, 100-y\n",
    "    y, x = x*y, 100 - x - y\n",
    "    x, y = str(x), str(y)\n",
    "    \n",
    "    if length_check and len(y) == 1: return(int(''.join([x, '0', y])))\n",
    "    else: return(int(''.join([x, y])))\n",
    "\n",
    "def multiplication_check(x, y, length_check = True): # Проверка результатов\n",
    "    return(wisdom_multiplication(x, y, length_check) == x*y)\n",
    "        \n",
    "\n",
    "def hl(val): # Здесь раскрашиваем таблицу\n",
    "    if val in z and val not in d: s = 'background-color: yellow'\n",
    "    elif val in d: s = 'color: red'\n",
    "    else: s = ''\n",
    "    return (s)\n",
    "\n",
    "# Создаем DataFrame для хранения таблицы умножения\n",
    "df = pd.DataFrame([[(0,False,False)]*90]*90)\n",
    "df.columns = list(range(10,100))\n",
    "df.index = list(range(10,100))\n",
    "# Создаем списки для \"сложных\" элементов\n",
    "d, z = [], []\n",
    "# Заполняем таблицу значениями\n",
    "for i in range(10, 100):\n",
    "    for j in range(10, 100):\n",
    "        v = str(i)+'x'+str(j)+'='+str(wisdom_multiplication(i, j))\n",
    "        df.iloc[i-10, j-10] = v # Записывем результаты умножения в таблицу\n",
    "        if not multiplication_check(i, j, length_check = True):\n",
    "            d.append(v) # Добавляем в список\n",
    "        if not multiplication_check(i, j, length_check = False):\n",
    "            z.append(v) # Добавляем в список\n",
    "\n",
    "# Применяем стили к таблице\n",
    "s = df.style.applymap(hl)\n",
    "\n",
    "# Сохраняем HTML\n",
    "with open('dz.html', 'w') as f:\n",
    "    f.write(s.render())"
   ]
  },
  {
   "cell_type": "code",
   "execution_count": 318,
   "metadata": {},
   "outputs": [],
   "source": []
  },
  {
   "cell_type": "code",
   "execution_count": null,
   "metadata": {},
   "outputs": [],
   "source": []
  }
 ],
 "metadata": {
  "kernelspec": {
   "display_name": "Python 3",
   "language": "python",
   "name": "python3"
  },
  "language_info": {
   "codemirror_mode": {
    "name": "ipython",
    "version": 3
   },
   "file_extension": ".py",
   "mimetype": "text/x-python",
   "name": "python",
   "nbconvert_exporter": "python",
   "pygments_lexer": "ipython3",
   "version": "3.9.5"
  }
 },
 "nbformat": 4,
 "nbformat_minor": 2
}
