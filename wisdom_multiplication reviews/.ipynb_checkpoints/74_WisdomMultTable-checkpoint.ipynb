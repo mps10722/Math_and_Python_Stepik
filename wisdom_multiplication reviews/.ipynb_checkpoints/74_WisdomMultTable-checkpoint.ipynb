{
 "cells": [
  {
   "cell_type": "code",
   "execution_count": 1,
   "metadata": {},
   "outputs": [],
   "source": [
    "\n",
    "import numpy as np\n",
    "import pandas as pd\n",
    "\n",
    "\n",
    "def wisdom_multiplication(x, y, length_check=True):\n",
    "    d1, d2 = 100-x, 100-y\n",
    "    p1 = str(100 - d1 - d2)\n",
    "    p2 = str(d1*d2)\n",
    "    if length_check and len(p2) == 1:\n",
    "        p2 = '0' + p2\n",
    "    return int(p1+p2)\n",
    "\n",
    "\n",
    "def multiplication_check(x, y, length_check=True):\n",
    "    return x*y == wisdom_multiplication(x, y, length_check)\n",
    "\n"
   ]
  },
  {
   "cell_type": "code",
   "execution_count": 2,
   "metadata": {},
   "outputs": [],
   "source": [
    "def color_wisdom_green(val):\n",
    "    \"\"\"\n",
    "    Takes a string as 'AxB' and returns a string with\n",
    "    the css property `'backcolor: green'` for wisdom multiplication\n",
    "    True without length check,\n",
    "    `'backcolor: red'` if length check required and '' otherwise.\n",
    "    \"\"\"\n",
    "    x, y = val.split('x')\n",
    "    x, y = int(x), int(y)\n",
    "    if multiplication_check(x, y, length_check=False):\n",
    "        backcolor = 'green'\n",
    "    elif multiplication_check(x, y):\n",
    "        backcolor = 'darkred'\n",
    "    else:\n",
    "        backcolor = ''\n",
    "    return 'background-color: %s' % backcolor\n",
    "\n"
   ]
  },
  {
   "cell_type": "code",
   "execution_count": 3,
   "metadata": {},
   "outputs": [],
   "source": [
    "dfMT = pd.DataFrame(\n",
    "    np.array([[f'{i}x{j}' for i in range(10, 99)] for j in range(10, 99)]), columns=range(10, 99))\n"
   ]
  },
  {
   "cell_type": "code",
   "execution_count": 4,
   "metadata": {},
   "outputs": [],
   "source": [
    "s = dfMT.style.applymap(color_wisdom_green)\n",
    "with open('74_output.html', 'w') as file:\n",
    "    file.write(s.render())\n"
   ]
  },
  {
   "cell_type": "code",
   "execution_count": null,
   "metadata": {},
   "outputs": [],
   "source": []
  }
 ],
 "metadata": {
  "file_extension": ".py",
  "kernelspec": {
   "display_name": "Python 3",
   "language": "python",
   "name": "python3"
  },
  "language_info": {
   "codemirror_mode": {
    "name": "ipython",
    "version": 3
   },
   "file_extension": ".py",
   "mimetype": "text/x-python",
   "name": "python",
   "nbconvert_exporter": "python",
   "pygments_lexer": "ipython3",
   "version": "3.9.5"
  },
  "mimetype": "text/x-python",
  "name": "python",
  "npconvert_exporter": "python",
  "pygments_lexer": "ipython3",
  "version": 3
 },
 "nbformat": 4,
 "nbformat_minor": 2
}
