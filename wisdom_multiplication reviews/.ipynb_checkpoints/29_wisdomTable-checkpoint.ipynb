{
 "cells": [
  {
   "cell_type": "code",
   "execution_count": 1,
   "metadata": {
    "id": "Oe4Ht_NxVAPI"
   },
   "outputs": [],
   "source": [
    "# Использовал python 3.8\n",
    "import pandas as pd\n",
    "\n",
    "\n",
    "def wisdom_multiplication(x, y, length_check=True):\n",
    "    \"\"\"умножение по схеме мудреца. В зависимости от значения аргумента length_check\n",
    "     проверяет необходимости добавить '0' ко второму числу или нет\"\"\"\n",
    "    a, b = (100 - x), (100 - y)\n",
    "    chk = lambda x: len(str(x)) < 2 and '0' or ''\n",
    "    return int(str(100 - (a + b)) + chk(a * b) * length_check + str(a * b))\n",
    "\n",
    "\n",
    "def multiplication_check(x, y, length_check):\n",
    "    \"\"\"проверка правильности работы 'схемы мудреца'\"\"\"\n",
    "    return wisdom_multiplication(x, y, length_check) == x * y\n",
    "\n",
    "\n",
    "class Pair:\n",
    "    \"\"\"класс пары множителей\"\"\"\n",
    "    def __init__(self, x, y):\n",
    "        self.x = x\n",
    "        self.y = y\n",
    "\n",
    "    def __repr__(self):\n",
    "        return f'{self.x}x{self.y}'\n",
    "\n",
    "    def getcolor(self):\n",
    "        \"\"\"функция возвращает цвет в зависимости от правильности работы 'схемы мудреца'\"\"\"\n",
    "        a = multiplication_check(self.x, self.y, False) + \\\n",
    "            multiplication_check(self.x, self.y, True)\n",
    "\n",
    "        color = ('red',  # красным отмечены пары где не работает \"схема мудреца\"\n",
    "                 'blue',  # синим отмечены пары где необходима проверка на разделитель 0 внутри\n",
    "                 'green')  # \"схема мудреца\" работает без проверки на разделитель 0\n",
    "        return 'color: %s' % color[a]\n",
    "\n",
    "\n",
    "d = [[Pair(i, j) for j in range(10, 100)] for i in range(10, 100)]\n",
    "df = pd.DataFrame(d, index=range(10, 100), columns=range(10, 100))\n",
    "# df.style.applymap(lambda v: v.getcolor())\n",
    "\n",
    "with open('29_wisdom_multiplication_table.html', 'w') as f:\n",
    "    f.write(df.style.applymap(lambda v: v.getcolor()).render())"
   ]
  },
  {
   "cell_type": "code",
   "execution_count": null,
   "metadata": {},
   "outputs": [],
   "source": []
  }
 ],
 "metadata": {
  "colab": {
   "collapsed_sections": [],
   "name": "wisdomTable.ipynb",
   "provenance": []
  },
  "kernelspec": {
   "display_name": "Python 3",
   "language": "python",
   "name": "python3"
  },
  "language_info": {
   "codemirror_mode": {
    "name": "ipython",
    "version": 3
   },
   "file_extension": ".py",
   "mimetype": "text/x-python",
   "name": "python",
   "nbconvert_exporter": "python",
   "pygments_lexer": "ipython3",
   "version": "3.9.5"
  }
 },
 "nbformat": 4,
 "nbformat_minor": 1
}
