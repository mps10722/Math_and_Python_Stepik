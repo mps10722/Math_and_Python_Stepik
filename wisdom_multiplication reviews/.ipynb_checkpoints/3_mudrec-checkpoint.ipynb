{
 "cells": [
  {
   "cell_type": "markdown",
   "metadata": {},
   "source": [
    "3 вида ячеек:\n",
    "- не окрашенные - там, где не работает ни один метод, только обычное умножение\n",
    "- красное выделение - там, где работает схема мудреца с проверкой длины\n",
    "- желтое выделение фона - там, где работает схема без проверки длины\n",
    "Там, где изменен и цвет символов и фон - работают оба метода."
   ]
  },
  {
   "cell_type": "code",
   "execution_count": 18,
   "metadata": {},
   "outputs": [
    {
     "data": {
      "text/plain": [
       "True"
      ]
     },
     "execution_count": 18,
     "metadata": {},
     "output_type": "execute_result"
    }
   ],
   "source": [
    "import pandas as pd\n",
    "import os\n",
    "import webbrowser\n",
    "\n",
    "# Создаем датафрейм таблицы умножения двухзначных чисел вида n*m\n",
    "di = dict()\n",
    "for i in range(10,100):\n",
    "    di[i] = []\n",
    "    for j in range(10,100):\n",
    "        di[i].append('%i*%i' %(j, i))\n",
    "df = pd.DataFrame(di, range(10,100))\n",
    "\n",
    "# Выполняем умножение с проверкой длины и без, в зависимости от параметра\n",
    "def wisdom_multiplication(x, y, length_check = True):\n",
    "    return int(str(100 - ((100-x) + (100-y))) + str((100-x)*(100-y))) if len(str((100-x)*(100-y)))>1 or not(length_check) else int(str(100 - ((100-x) + (100-y))) + '0' + str((100-x)*(100-y)))\n",
    "\n",
    "# возвращаем правда или ложь, в зависимости от совпадения с реальным умножением\n",
    "def multiplication_check_list(i, j, length_check = True):\n",
    "    if wisdom_multiplication(i,j,length_check) == i*j:\n",
    "        return True\n",
    "    else:\n",
    "        return False\n",
    "\n",
    "def color(val):\n",
    "    # красим в красный, при проверке длины\n",
    "    color = 'red' if val else 'black'\n",
    "    return 'color: %s' % color\n",
    "\n",
    "def color2(val):\n",
    "    # меняем фон, без проверки длины\n",
    "    color = 'yellow' if val else ''\n",
    "    return 'background-color: %s' % color\n",
    "\n",
    "# находим те значения, которые удовлетворяют умножению с проверкой длины\n",
    "df_b = pd.DataFrame(map(lambda x: list(map(lambda y: multiplication_check_list(int(y.split('*')[0]), int(y.split('*')[1])), x)), df.values), range(10,100),range(10,100))\n",
    "# находим те значения, которые удовлетворяют умножению без проверки длины\n",
    "df_c = pd.DataFrame(map(lambda x: list(map(lambda y: multiplication_check_list(int(y.split('*')[0]), int(y.split('*')[1]), False), x)), df.values), range(10,100),range(10,100))\n",
    "\n",
    "# применяем форматирование\n",
    "ss = df.style.apply(lambda x: df_b.applymap(color), axis=None).apply(lambda x: df_c.applymap(color2), axis=None).render()\n",
    "# сохраняю в файл\n",
    "with open('mudrec.html', 'w') as f:\n",
    "    f.write(ss)\n",
    "# попытка открыть\n",
    "webbrowser.open('mudrec.html', new=2)"
   ]
  },
  {
   "cell_type": "markdown",
   "metadata": {},
   "source": [
    "Если не открывается в браузере, то откройте пустую вкладку в вашем браузере и перетащите туда созданный файл для отображения"
   ]
  }
 ],
 "metadata": {
  "kernelspec": {
   "display_name": "Python 3",
   "language": "python",
   "name": "python3"
  },
  "language_info": {
   "codemirror_mode": {
    "name": "ipython",
    "version": 3
   },
   "file_extension": ".py",
   "mimetype": "text/x-python",
   "name": "python",
   "nbconvert_exporter": "python",
   "pygments_lexer": "ipython3",
   "version": "3.9.5"
  }
 },
 "nbformat": 4,
 "nbformat_minor": 2
}
