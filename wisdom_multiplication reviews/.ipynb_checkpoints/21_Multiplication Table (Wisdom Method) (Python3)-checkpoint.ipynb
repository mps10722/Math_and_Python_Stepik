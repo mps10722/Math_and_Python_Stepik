{
 "cells": [
  {
   "cell_type": "code",
   "execution_count": 113,
   "metadata": {
    "scrolled": true
   },
   "outputs": [],
   "source": [
    "# Import модулей NumPy и Pandas\n",
    "import numpy as np\n",
    "import pandas as pd\n",
    "\n",
    "# функция multiplication_check() - проверка умножения двух чисел методом \"Мудреца\"\n",
    "# возвращает \"цвет\" \n",
    "def multiplication_check(x, y):\n",
    "    z = wisdom_multiplication(x, y)   # умножение методом \"Мудреца\"\n",
    "    if x * y == int(z):\n",
    "        return '#47A76A'              # \"зеленый\" - верное значение методом \"Мудреца\" \n",
    "    else:\n",
    "        if int(z[0:2] + '0' + z[2:]) == x * y:\n",
    "            return '#FFD700'          # \"желтый\" - верное значение методом \"Мудреца\" после дописывания \"нуля\" \n",
    "        else:\n",
    "            return '#E52B50'          # \"красный\" - метод \"Мудреца\" дает не верное значение\n",
    "\n",
    "# функция wisdom_multiplication() - возвращает конкатенацию двух чисел методом \"Мудреца\"\n",
    "def wisdom_multiplication(x, y):\n",
    "    step1 = str((100 - ((100 - x) + (100 - y))))\n",
    "    step2 = str((100 - x) * (100 - y))\n",
    "    return step1 + step2\n",
    "\n",
    "# функция color - возвращает цвет ячейки \n",
    "def color(val):\n",
    "    color = multiplication_check(int(val[0:2]),int(val[3:]))\n",
    "    return 'background-color: %s' % color\n",
    "\n",
    "# диапазон таблицы\n",
    "start = 10\n",
    "stop = 99\n",
    "\n",
    "# формирование n-мерного массива с ячейками вида NxM\n",
    "table = np.array([[str(i) + 'x' + str(j) for j in range(start, stop + 1)] for i in range(start, stop + 1)])\n",
    "\n",
    "# нумерация строк (index) и столбцов (colums) \n",
    "index = [i for i in range(start,stop+1)]\n",
    "colums = [i for i in range(start,stop+1)]\n",
    "\n",
    "# преобразование массива в двухмерну таблицу\n",
    "df = pd.DataFrame(np.vstack(table), index=index, columns=colums)\n",
    "\n",
    "# закрашивание ячеек таблицы\n",
    "df1 = df.style.applymap(color)\n",
    "\n",
    "# сохрание результатов в файл формата Excel\n",
    "df1.to_excel('result.xlsx', index=index, encoding='utf-8')\n",
    "\n",
    "# -----------------------------------------------------------\n",
    "# For communication\n",
    "# Telegram https://t.me/Danil_O\n",
    "# -----------------------------------------------------------"
   ]
  },
  {
   "cell_type": "code",
   "execution_count": null,
   "metadata": {},
   "outputs": [],
   "source": []
  }
 ],
 "metadata": {
  "kernelspec": {
   "display_name": "Python 3",
   "language": "python",
   "name": "python3"
  },
  "language_info": {
   "codemirror_mode": {
    "name": "ipython",
    "version": 3
   },
   "file_extension": ".py",
   "mimetype": "text/x-python",
   "name": "python",
   "nbconvert_exporter": "python",
   "pygments_lexer": "ipython3",
   "version": "3.9.5"
  }
 },
 "nbformat": 4,
 "nbformat_minor": 4
}
