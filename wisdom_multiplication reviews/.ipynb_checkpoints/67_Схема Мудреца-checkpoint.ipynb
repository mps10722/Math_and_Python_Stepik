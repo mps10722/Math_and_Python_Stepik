{
 "cells": [
  {
   "cell_type": "markdown",
   "metadata": {},
   "source": [
    "# Визуализация схемы мудреца"
   ]
  },
  {
   "cell_type": "code",
   "execution_count": 26,
   "metadata": {},
   "outputs": [],
   "source": [
    "import pandas as pd"
   ]
  },
  {
   "cell_type": "code",
   "execution_count": 2,
   "metadata": {},
   "outputs": [],
   "source": [
    "data = [[f'{i}x{j}' for i in range(10, 100)] for j in range(10, 100)] #генерируем значения для будущей таблицы"
   ]
  },
  {
   "cell_type": "code",
   "execution_count": 4,
   "metadata": {},
   "outputs": [],
   "source": [
    "#изменяем опции для отображения таблицы\n",
    "pd.set_option('display.max_rows', 90)\n",
    "pd.set_option('display.max_columns', 90)"
   ]
  },
  {
   "cell_type": "code",
   "execution_count": 3,
   "metadata": {},
   "outputs": [],
   "source": [
    "df = pd.DataFrame(data=data, columns=range(10, 100), index=range(10, 100)) #таблица 90 х 90"
   ]
  },
  {
   "cell_type": "code",
   "execution_count": 15,
   "metadata": {},
   "outputs": [],
   "source": [
    "# функция для проверки результата схемы мудреца\n",
    "# функция работает с отдельными значениями, а не интервалом, так как затем результат\n",
    "# данной функции будет использован в applymap, который работает поэлементно\n",
    "\n",
    "def mult_check(x, y, length_check=True): \n",
    "    first = str(100 - ((100 - x) + (100 - y)))\n",
    "    second = str((100 - x) * (100 - y)).rjust(2 if length_check == True else 0, '0')\n",
    "    return int(''.join([first, second])) == x * y"
   ]
  },
  {
   "cell_type": "code",
   "execution_count": 18,
   "metadata": {},
   "outputs": [],
   "source": [
    "# функция для определения цвета ячейки\n",
    "# если функция выдает значение True как с проверкой длины, так и без, то цвет - зеленый\n",
    "# если True только с проверкой длины - желтый\n",
    "# если выдает значение False и с проверкой,и без проверки - то красный\n",
    "def color(val): \n",
    "    x, y = [int(x) for x in val.split(sep='x')]\n",
    "    with_check = mult_check(x, y, length_check=True)\n",
    "    without_check = mult_check(x, y, length_check=False)\n",
    "    color = ''\n",
    "    if with_check == True and without_check == True: \n",
    "        color = 'lightgreen'\n",
    "    elif with_check == True and without_check == False: \n",
    "        color='bisque'\n",
    "    elif with_check == False and without_check == False: \n",
    "        color = 'lightcoral'\n",
    "    return f'background-color: {color}'\n",
    "    "
   ]
  },
  {
   "cell_type": "code",
   "execution_count": 22,
   "metadata": {},
   "outputs": [],
   "source": [
    "html = df.style.applymap(color).set_caption('Схема Мудреца').set_properties(**{'font-family': 'Helvetica'}).render()"
   ]
  },
  {
   "cell_type": "code",
   "execution_count": 21,
   "metadata": {},
   "outputs": [],
   "source": [
    "with open('result.html', 'w') as f: \n",
    "    f.write(html)"
   ]
  }
 ],
 "metadata": {
  "kernelspec": {
   "display_name": "Python 3",
   "language": "python",
   "name": "python3"
  },
  "language_info": {
   "codemirror_mode": {
    "name": "ipython",
    "version": 3
   },
   "file_extension": ".py",
   "mimetype": "text/x-python",
   "name": "python",
   "nbconvert_exporter": "python",
   "pygments_lexer": "ipython3",
   "version": "3.9.5"
  }
 },
 "nbformat": 4,
 "nbformat_minor": 4
}
