{
 "cells": [
  {
   "cell_type": "markdown",
   "metadata": {},
   "source": [
    "# Схема умножения мудреца"
   ]
  },
  {
   "cell_type": "markdown",
   "metadata": {},
   "source": [
    "### Python 3.8\n",
    "# импортируем библиотеку, создаем рабочую книгу и внутри нее рабочий лист\n",
    "import xlsxwriter\n",
    "workbook = xlsxwriter.Workbook('45_smart_math.xlsx')\n",
    "worksheet = workbook.add_worksheet('10-99 numbers')\n",
    "\n",
    "# делаем 3 цветовых стиля под ячейки с помощью функции .add_format()\n",
    "cell_format1 = workbook.add_format()\n",
    "cell_format1.set_bg_color('#83F03C') # зеленый\n",
    "\n",
    "cell_format2 = workbook.add_format()\n",
    "cell_format2.set_bg_color('#FE3F44') # красный\n",
    "\n",
    "cell_format3 = workbook.add_format()\n",
    "cell_format3.set_bg_color('#FFB400') # оранжевый\n",
    "\n",
    "# функция вычисляет, нужно ли прибавлять 0, чтобы получить верный результат\n",
    "# для \"схемы мудреца\", а также проверяет сходится ли такой результат с реальным умножением чисел\n",
    "def wisdom_mult(x, y):\n",
    "    a, b = 100 - x, 100 - y\n",
    "    c = 100 - (a + b)\n",
    "    d = a * b\n",
    "    m = 0\n",
    "   # проверяем, нужно ли добавлять 0\n",
    "    if len(str(d)) == 1:\n",
    "        d = '0' + str(d)\n",
    "        m = int((str(c)) + d)\n",
    "   # проверяем, сходится ли ответ с реальным\n",
    "        if m == x * y:\n",
    "            return cell_format3\n",
    "        else:\n",
    "            return cell_format2\n",
    "    else:\n",
    "        m = int((str(c)) + str(d))\n",
    "        if m == x * y:\n",
    "            return cell_format1\n",
    "        else:\n",
    "            return cell_format2\n",
    "\n",
    "# реализуем заполнение таблицы\n",
    "a = [i for i in range(99, 9, -1)]\n",
    "worksheet.write(0, 0, 'В данной таблице отражены комбинцации чисел от 10 до 99, для которых применима или не применима схема умножения \"мудреца\"')\n",
    "worksheet.write(1, 0, 'Так как большинство чисел имеют негативный результат проверки, то отображение идет начиная с конца (с 99 числа)')\n",
    "worksheet.write(2, 0, 'Обозначения:')\n",
    "worksheet.write(3, 0, '', cell_format1)\n",
    "worksheet.write(3, 1, 'Для числа не нужно вставлять разделитель 0 и результат верен')\n",
    "worksheet.write(4, 0, '', cell_format3)\n",
    "worksheet.write(4, 1, 'Результат будет верным только в случае добавления разделителя 0')\n",
    "worksheet.write(5, 0, '', cell_format2)\n",
    "worksheet.write(5, 1, 'Результат не будет верен в любом случае')\n",
    "x = 7\n",
    "y = 0\n",
    "for i in a:\n",
    "    for j in a:\n",
    "        worksheet.write(x, y, str(i) + 'x' + str(j), wisdom_mult(i, j))\n",
    "        y += 1\n",
    "    y = 0\n",
    "    x += 1\n",
    "# закрываем книгу. Важно: если файл уже создан, то для повторной записи его нужно закрыть\n",
    "workbook.close()"
   ]
  },
  {
   "cell_type": "markdown",
   "metadata": {},
   "source": []
  }
 ],
 "metadata": {
  "kernelspec": {
   "display_name": "Python 3",
   "language": "python",
   "name": "python3"
  },
  "language_info": {
   "codemirror_mode": {
    "name": "ipython",
    "version": 3
   },
   "file_extension": ".py",
   "mimetype": "text/x-python",
   "name": "python",
   "nbconvert_exporter": "python",
   "pygments_lexer": "ipython3",
   "version": "3.9.5"
  }
 },
 "nbformat": 4,
 "nbformat_minor": 2
}
