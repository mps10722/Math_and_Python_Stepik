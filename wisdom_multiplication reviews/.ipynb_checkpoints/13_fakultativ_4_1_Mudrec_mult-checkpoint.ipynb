{
 "cells": [
  {
   "cell_type": "markdown",
   "metadata": {},
   "source": [
    "# Внимание! Время работы программы около 120 секунд.\n",
    "На моем компьютере\n",
    "# Выходной файл: wisdom_mult.png"
   ]
  },
  {
   "cell_type": "markdown",
   "metadata": {},
   "source": [
    "Server Information:\n",
    "\n",
    "Jupyter notebook server: 6.0.3\n",
    "\n",
    "Python 3.8.3 (default, Jul 2 2020, 17:30:36) [MSC v.1916 64 bit (AMD64)]\n"
   ]
  },
  {
   "cell_type": "markdown",
   "metadata": {},
   "source": [
    "1. Построить таблицу умножения двузначных чисел (от 10 до 99), без сокращений. \n",
    "    рекомендуется заполнять таблицу записями вида NxM, а не результатами \n",
    "    (т.е. таблица очень большая и в середине не видно индексов столбцов и строк).\n",
    "2. Визуально отметить те ячейки таблицы, где работает \"схема мудреца\" \n",
    "    (разными цветами те где достаточно схемы без проверки на разделитель 0 внутри и те, \n",
    "     где это является необходимым условием верного ответа)\n",
    "3. Добавить комментарии в код (включая функции)\n",
    "4. Сохранить результат в файл (любого типа, но рекомендуется html или png)\n"
   ]
  },
  {
   "cell_type": "code",
   "execution_count": null,
   "metadata": {},
   "outputs": [],
   "source": [
    "import time\n",
    "# время работы программы\n",
    "start_time = time.time()\n",
    "\n",
    "import matplotlib.pyplot as plt\n",
    "\n",
    "def wisdom_multiplication(x, y, length_check = True):\n",
    "    # Вычисление произведения по схеме мудреца\n",
    "    # length_check=false - не добавлять нули в центр \n",
    "    # length_check=true - добавлять нули в центр \n",
    "    \n",
    "    n1=100-x\n",
    "    n2=100-y\n",
    "    out1=str(100-n1-n2)\n",
    "    out2=str(n1*n2)\n",
    "    if length_check and len(out2)==1:\n",
    "        out2=(\"00\"+out2)[1:]\n",
    "    return int(out1+out2)\n",
    "\n",
    "def wisdom_mult_check(x,y):\n",
    "    # Проверка схемы мудреца\n",
    "    # Возвращает 0, если схема мудреца не работает\n",
    "    # Возвращает 1, если схема мудреца работает при добавлении нулей в центр числа\n",
    "    # Возвращает 2, если схема мудреца работает\n",
    "    \n",
    "    if x*y == wisdom_multiplication(x, y, length_check = False): return 2\n",
    "    if x*y == wisdom_multiplication(x, y, length_check = True): return 1\n",
    "    else: return 0\n",
    "    \n",
    "# не показвать оси\n",
    "sides = ('left', 'right', 'top', 'bottom')\n",
    "nolabels = {s: False for s in sides}\n",
    "nolabels.update({'label%s' % s: False for s in sides}) \n",
    "colors=['white','white','black'] # цвет текста\n",
    "\n",
    "start=10\n",
    "end=100\n",
    "# Заполнение таблицы результатами проверки схемы мудреца\n",
    "x=[[wisdom_mult_check(i,j) for j in range(start,end)] for i in range(start,end)] \n",
    "\n",
    "# визуализация таблицы    \n",
    "fig, ax = plt.subplots(1, 1, figsize=(50, 50))\n",
    "fig.suptitle('Таблица умножения по методу мудреца', fontsize=20)\n",
    "ax.set_title('СИНИЙ - не работает, ЗЕЛЕНЫЙ - работает с добавлением нулей в центр числа, ЖЕЛТЫЙ - работает', \\\n",
    "             fontsize=20)         \n",
    "ax.tick_params(axis='both', which='both', **nolabels)\n",
    " \n",
    "# Подписи внутри ячеек таблицы\n",
    "for i in range(end-start):\n",
    "    for j in range(end-start):\n",
    "        ax.text(i, j,  str(i+start)+'$\\cdot$'+str(j+start), color=colors[x[i][j]], ha='center', va='center')\n",
    "ax.matshow(x)\n",
    "\n",
    "fig.savefig('13_wisdom_mult.png')\n",
    "\n",
    "# время работы программы\n",
    "print(\"--- %s seconds ---\" % round((time.time() - start_time)))\n"
   ]
  },
  {
   "cell_type": "code",
   "execution_count": null,
   "metadata": {},
   "outputs": [],
   "source": []
  },
  {
   "cell_type": "code",
   "execution_count": null,
   "metadata": {},
   "outputs": [],
   "source": []
  }
 ],
 "metadata": {
  "kernelspec": {
   "display_name": "Python 3",
   "language": "python",
   "name": "python3"
  },
  "language_info": {
   "codemirror_mode": {
    "name": "ipython",
    "version": 3
   },
   "file_extension": ".py",
   "mimetype": "text/x-python",
   "name": "python",
   "nbconvert_exporter": "python",
   "pygments_lexer": "ipython3",
   "version": "3.9.5"
  }
 },
 "nbformat": 4,
 "nbformat_minor": 4
}
