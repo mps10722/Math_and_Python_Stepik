{
 "cells": [
  {
   "cell_type": "code",
   "execution_count": 1,
   "metadata": {},
   "outputs": [],
   "source": [
    "import pandas as pd\n",
    "import numpy as np\n",
    "\n",
    "\n",
    "def wisdom_multiplication(x, y, length_check):\n",
    "    x1, y1 = 100 - x, 100 - y\n",
    "    left = str(100 - (x1 + y1))\n",
    "    rigth = str(x1 * y1)\n",
    "    if length_check:\n",
    "        if len(rigth) == 1:\n",
    "            rigth = '0' + rigth\n",
    "    return int(left + rigth)\n",
    "\n",
    "\n",
    "def multiplication_check(x, y, length_check):\n",
    "    return x * y == wisdom_multiplication(x, y, length_check)\n",
    "\n",
    "\n",
    "def color_negative_red(val):\n",
    "    \"\"\"\n",
    "    Возвращает CSS color = 'yellow' если нужна проверка на разделитель 0\n",
    "    Если без проверки, вернет color = 'green'\n",
    "    Если Мудрец не сработает, то цвет заливка останется прежней\n",
    "    \"\"\"\n",
    "    color = ''\n",
    "    x = int(val[:2])\n",
    "    y = int(val[-2:])\n",
    "    \n",
    "    length_check=True  # нужна проверка\n",
    "    if multiplication_check(x, y, length_check):\n",
    "        color = 'yellow'\n",
    "    \n",
    "    length_check=False  #  без проверки на разделитель 0\n",
    "    if multiplication_check(x, y, length_check):\n",
    "        color = 'green'\n",
    "       \n",
    "    return f'background-color: {color}'\n",
    "\n",
    "\n",
    "# Формируем словарь - таблицу умножения по столбцам\n",
    "table = {}\n",
    "for i in range(10, 100):\n",
    "    for j in range(10, 100):\n",
    "        if i in table:\n",
    "            table[i].append(f'{i}x{j}')\n",
    "        else:\n",
    "            table[i] = [f'{i}x{j}']\n",
    "df = pd.DataFrame(table, index=[i for i in range(10, 100)])\n",
    "\n",
    "s = df.style.applymap(color_negative_red)  # применим стили к нашему df\n",
    "\n",
    "f=open(\"46_styled_dataframe.html\",\"w\")\n",
    "f.write(s.render()) # рендеринг и запись в наш файл\n",
    "f.close()"
   ]
  },
  {
   "cell_type": "code",
   "execution_count": null,
   "metadata": {},
   "outputs": [],
   "source": []
  }
 ],
 "metadata": {
  "kernelspec": {
   "display_name": "Python 3",
   "language": "python",
   "name": "python3"
  },
  "language_info": {
   "codemirror_mode": {
    "name": "ipython",
    "version": 3
   },
   "file_extension": ".py",
   "mimetype": "text/x-python",
   "name": "python",
   "nbconvert_exporter": "python",
   "pygments_lexer": "ipython3",
   "version": "3.9.5"
  }
 },
 "nbformat": 4,
 "nbformat_minor": 4
}
