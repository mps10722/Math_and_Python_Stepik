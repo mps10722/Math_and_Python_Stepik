{
 "cells": [
  {
   "cell_type": "code",
   "execution_count": 34,
   "id": "deadly-athens",
   "metadata": {},
   "outputs": [],
   "source": [
    "import numpy as np\n",
    "import pandas as pd\n",
    "\n",
    "#python 3.8.5\n",
    "\n",
    "def wisdom_multiplication_check(x, y, length_check=True):\n",
    "    \"\"\"This function checks the correctness of wisdom multiplication.\"\"\"\n",
    "    def wisdom_multiplication(x, y, length_check):\n",
    "        \"\"\"This function multiplies x and y using wisdom multiplication.\"\"\"\n",
    "        x2, y2 = 100 - x, 100 - y\n",
    "        res = x2 + y2\n",
    "        res = 100 - res\n",
    "        res2 = x2 * y2\n",
    "        if length_check: \n",
    "            if len(str(res2)) == 1:\n",
    "                res2 = '0' + str(res2)\n",
    "                return int(str(res) + res2)\n",
    "        return int(str(res) + str(res2))\n",
    "    return wisdom_multiplication(x, y, length_check) == x * y\n",
    "\n",
    "def fill_cell(cell):\n",
    "    \"\"\"This function fills of cells.\n",
    "    \n",
    "       Yellow if wisdom multiplication without length check is correct.\n",
    "       Red if wisdom multiplication with length check is correct.\n",
    "       White if wisdom multiplication with length check is uncorrect\n",
    "       \n",
    "    \"\"\"\n",
    "    x = int(cell[:2])\n",
    "    y = int(cell[3:])\n",
    "    if wisdom_multiplication_check(x, y, False):\n",
    "        return 'background-color: yellow'\n",
    "    elif wisdom_multiplication_check(x, y, True):\n",
    "        return 'background-color: red'\n",
    "    else:\n",
    "        return 'background-color: white'\n",
    "    \n",
    "\n",
    "A = np.empty((90, 90), dtype=object)\n",
    "for i in range(90):\n",
    "    for j in range(90):\n",
    "        A[i, j] = str(i + 10) + 'x' + str(j + 10)\n",
    "df = pd.DataFrame(A, index=range(10, 100), columns=range(10, 100))\n",
    "styled_table = df.style.applymap(fill_cell)\n",
    "html = styled_table.render()\n",
    "with open('multiplication_table.html', 'w') as f:\n",
    "    f.write(html)"
   ]
  },
  {
   "cell_type": "code",
   "execution_count": null,
   "id": "purple-house",
   "metadata": {},
   "outputs": [],
   "source": []
  }
 ],
 "metadata": {
  "kernelspec": {
   "display_name": "Python 3",
   "language": "python",
   "name": "python3"
  },
  "language_info": {
   "codemirror_mode": {
    "name": "ipython",
    "version": 3
   },
   "file_extension": ".py",
   "mimetype": "text/x-python",
   "name": "python",
   "nbconvert_exporter": "python",
   "pygments_lexer": "ipython3",
   "version": "3.8.5"
  }
 },
 "nbformat": 4,
 "nbformat_minor": 5
}
