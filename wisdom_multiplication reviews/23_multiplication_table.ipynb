{
 "cells": [
  {
   "cell_type": "code",
   "execution_count": 2,
   "metadata": {
    "collapsed": true,
    "pycharm": {
     "is_executing": false
    }
   },
   "outputs": [],
   "source": [
    "import pandas as pd\n",
    "import numpy as np"
   ]
  },
  {
   "cell_type": "code",
   "execution_count": 49,
   "outputs": [],
   "source": [
    "def wisdom_multiplication(x, y, length_check=True):\n",
    "    \"\"\"Умножение по \"схеме мудреца\" с конкатенацией\n",
    "    \n",
    "    В зависимости от значения аргумента length_check функция проверяет или нет\n",
    "    длину результата шага 4 и при необходимости дописывает 0 перед ним\n",
    "    (если результат всего 1 цифра).\n",
    "    \n",
    "    Возвращает целое число.\n",
    "    \"\"\"\n",
    "    tmp = ['', '0']\n",
    "    left = str(100 - (100-x) - (100-y))\n",
    "    right = str((100-x)*(100-y))\n",
    "    \n",
    "    return left + tmp[length_check] + right if len(right) == 1 \\\n",
    "        else left + right\n",
    "\n",
    "def colorize(val):\n",
    "    \"\"\"\n",
    "    Принимает строку вида: NxM\n",
    "    \n",
    "    Раскрашивает ячейки в которых работает схема мудреца без проверки на \n",
    "    разделитель в синий цвет, с проверкой в красный. Ячейки в которых схема \n",
    "    мудреца не работает в черный.\n",
    "    \"\"\"\n",
    "    nums = list(map(int, val.split('x')))\n",
    "    if int(wisdom_multiplication(*nums, length_check=False)) == np.multiply(*nums):\n",
    "        return 'color: blue'\n",
    "    elif int(wisdom_multiplication(*nums, length_check=True)) == np.multiply(*nums):\n",
    "        return 'color: red'\n",
    "    return 'color: black'"
   ],
   "metadata": {
    "collapsed": false,
    "pycharm": {
     "name": "#%%\n",
     "is_executing": false
    }
   }
  },
  {
   "cell_type": "code",
   "execution_count": 53,
   "outputs": [],
   "source": [
    "rng = range(10, 100) # генератор чисел от 1 до 99\n",
    "data = [[f'{i}x{j}' for j in rng] for i in rng] # 2-мерный массив с эдементами вида NxM\n",
    "df = pd.DataFrame(data, index=rng, columns=rng)\n",
    "\n",
    "# охранение результата в html файл\n",
    "with open('rendered.html', 'w') as f:\n",
    "    f.write(df.style.applymap(colorize).render())\n"
   ],
   "metadata": {
    "collapsed": false,
    "pycharm": {
     "name": "#%%\n",
     "is_executing": false
    }
   }
  }
 ],
 "metadata": {
  "language_info": {
   "codemirror_mode": {
    "name": "ipython",
    "version": 2
   },
   "file_extension": ".py",
   "mimetype": "text/x-python",
   "name": "python",
   "nbconvert_exporter": "python",
   "pygments_lexer": "ipython2",
   "version": "2.7.6"
  },
  "kernelspec": {
   "name": "python3",
   "language": "python",
   "display_name": "Python 3"
  },
  "pycharm": {
   "stem_cell": {
    "cell_type": "raw",
    "source": [],
    "metadata": {
     "collapsed": false
    }
   }
  }
 },
 "nbformat": 4,
 "nbformat_minor": 0
}