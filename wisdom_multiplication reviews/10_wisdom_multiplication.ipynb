{
 "cells": [
  {
   "cell_type": "markdown",
   "metadata": {
    "colab_type": "text",
    "collapsed": false,
    "id": "N21NJAUpY74d"
   },
   "source": [
    "Импорт библиотек, установка параметров отображения"
   ]
  },
  {
   "cell_type": "code",
   "execution_count": 0,
   "metadata": {
    "colab": {
    },
    "colab_type": "code",
    "collapsed": false,
    "id": "iJH1_N-MHT0V"
   },
   "outputs": [
   ],
   "source": [
    "import pandas as pd \n",
    "\n",
    "pd.set_option('display.max_seq_items', None)"
   ]
  },
  {
   "cell_type": "markdown",
   "metadata": {
    "colab_type": "text",
    "collapsed": false,
    "id": "4w_jGd9QU0RA"
   },
   "source": [
    "Функция для вычисления произведения \"методом Мудреца\" с учетом дополнительного 0 в младших разрядах и без"
   ]
  },
  {
   "cell_type": "code",
   "execution_count": 0,
   "metadata": {
    "colab": {
    },
    "colab_type": "code",
    "collapsed": false,
    "id": "q2gga2fbHe1V"
   },
   "outputs": [
   ],
   "source": [
    "def wisdom_multiplication(x, y):\n",
    "    a, b = 100 - x, 100 - y\n",
    "    c = str(100 - (a + b))\n",
    "    d = str(a * b)\n",
    "    d1 = '0' + d if len(d) == 1 else d\n",
    "    return c + d, c + d1\n",
    "    "
   ]
  },
  {
   "cell_type": "markdown",
   "metadata": {
    "colab_type": "text",
    "collapsed": false,
    "id": "umhoDsMeUpKy"
   },
   "source": [
    "Еще функция - Результат \"метода мудреца\" и правильный результат."
   ]
  },
  {
   "cell_type": "code",
   "execution_count": 0,
   "metadata": {
    "colab": {
    },
    "colab_type": "code",
    "collapsed": false,
    "id": "krJoqzoiVkzP"
   },
   "outputs": [
   ],
   "source": [
    "def multiplication_check_list(x, y):\n",
    "    wisdom_simple, wisdom_compl = wisdom_multiplication(x, y)\n",
    "    return int(wisdom_simple), int(wisdom_compl), x * y "
   ]
  },
  {
   "cell_type": "markdown",
   "metadata": {
    "colab_type": "text",
    "collapsed": false,
    "id": "dgbdAWPjVvFw"
   },
   "source": [
    "Создаем таблицу, оборачиваем в DataFrame"
   ]
  },
  {
   "cell_type": "code",
   "execution_count": 95,
   "metadata": {
    "colab": {
     "base_uri": "https://localhost:8080/",
     "height": 34
    },
    "colab_type": "code",
    "collapsed": false,
    "id": "Jfpvg_AtEFNw",
    "outputId": "eb318551-cfe1-4e9d-a8f6-3a9820520400"
   },
   "outputs": [
    {
     "data": {
      "text/plain": [
       "(8100, 3)"
      ]
     },
     "execution_count": 95,
     "metadata": {
      "tags": [
      ]
     },
     "output_type": "execute_result"
    }
   ],
   "source": [
    "total, correct = 0, 0\n",
    "\n",
    "data, start, stop = [], 10, 99\n",
    "for x in range(start, stop + 1):\n",
    "    for y in range(start, stop + 1):\n",
    "        data.append({'x' : x, 'y' : y, 'Pair x * y': f'{x} * {y}'})         \n",
    "data=pd.DataFrame(data)\n",
    "\n",
    "data.shape"
   ]
  },
  {
   "cell_type": "markdown",
   "metadata": {
    "colab_type": "text",
    "collapsed": false,
    "id": "H6zTMkuWV6Lw"
   },
   "source": [
    "Вспомогательныя функция для  цветовой заливки ячеек :\n",
    "\n",
    "\"красный\" - не верно,\n",
    "\n",
    "\"желтый\" - верный ответ после добавления \"0\" перед младшим разрядом,\n",
    "\n",
    "\"зеленый\" -результат совпадает с верным\n",
    "\n",
    "\n"
   ]
  },
  {
   "cell_type": "code",
   "execution_count": 0,
   "metadata": {
    "colab": {
    },
    "colab_type": "code",
    "collapsed": false,
    "id": "_i8FyAtDLkOh"
   },
   "outputs": [
   ],
   "source": [
    "def colorise_cell(cell):\n",
    "    back_colormap={0 : 'red', 1 : 'yellow', 2 : 'green'}\n",
    "    x, y = cell.split(' * ')\n",
    "    simple, comple, res = multiplication_check_list(int(x), int(y))\n",
    "    compare = int(simple == res) + int(comple == res)\n",
    "    return f'background-color : { back_colormap[compare]}'\n"
   ]
  },
  {
   "cell_type": "markdown",
   "metadata": {
    "colab_type": "text",
    "collapsed": false,
    "id": "WKKRgdoNah-S"
   },
   "source": [
    "Применяем цветовую разметку."
   ]
  },
  {
   "cell_type": "code",
   "execution_count": 0,
   "metadata": {
    "colab": {
    },
    "colab_type": "code",
    "collapsed": false,
    "id": "ot7fSdGXwe3n"
   },
   "outputs": [
   ],
   "source": [
    "\n",
    "html = data.style.applymap(colorise_cell, subset= ['Pair x * y']).render()"
   ]
  },
  {
   "cell_type": "code",
   "execution_count": 0,
   "metadata": {
    "colab": {
    },
    "colab_type": "code",
    "collapsed": false,
    "id": "uQrDT-YiQQzl"
   },
   "outputs": [
   ],
   "source": [
    "with open('/content/table_wisdom_multiplying.html', 'w') as file:\n",
    "    file.write(html)\n",
    "\n"
   ]
  },
  {
   "cell_type": "markdown",
   "metadata": {
    "colab_type": "text",
    "collapsed": false,
    "id": "uBgAzb1ltde1"
   },
   "source": [
    "Ну ив Pandas  выглядит это так:"
   ]
  },
  {
   "cell_type": "code",
   "execution_count": 121,
   "metadata": {
    "colab": {
     "base_uri": "https://localhost:8080/",
     "height": 1000
    },
    "colab_type": "code",
    "collapsed": false,
    "id": "5ItIFxJyrOf6",
    "outputId": "56ce271d-71c2-4d64-92a2-089a034031b2"
   },
   "outputs": [
    {
     "name": "stderr",
     "output_type": "stream",
     "text": [
      "WARNING: 1 intermediate output message was discarded.\n"
     ]
    }
   ],
   "source": [
    "data.style.applymap(colorise_cell, subset= ['Pair x * y'])"
   ]
  }
 ],
 "metadata": {
  "colab": {
   "name": "Untitled28.ipynb",
   "provenance": [
   ]
  },
  "kernelspec": {
   "display_name": "Python 3 (system-wide)",
   "language": "python",
   "metadata": {
    "cocalc": {
     "description": "Python 3 programming language",
     "priority": 100,
     "url": "https://www.python.org/"
    }
   },
   "name": "python3",
   "resource_dir": "/ext/jupyter/kernels/python3"
  }
 },
 "nbformat": 4,
 "nbformat_minor": 4
}