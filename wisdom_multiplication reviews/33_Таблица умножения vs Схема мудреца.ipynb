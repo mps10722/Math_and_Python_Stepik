{
 "cells": [
  {
   "cell_type": "markdown",
   "metadata": {},
   "source": [
    "# Визуализация схемы мудреца на таблице умножения"
   ]
  },
  {
   "cell_type": "markdown",
   "metadata": {},
   "source": [
    "Задание заключается в решении следующих пунктов:\n",
    "\n",
    "- Построить таблицу умножения двузначных чисел (от 10 до 99), без сокращений. рекомендуется заполнять таблицу записями вида NxM, а не результатами (т.е. таблица очень большая и в середине не видно индексов столбцов и строк).\n",
    "\n",
    "- Визуально отметить те ячейки таблицы, где работает \"схема мудреца\" (разными цветами те где достаточно схемы без проверки на разделитель 0 внутри и те, где это является необходимым условием верного ответа)\n",
    "\n",
    "- Добавить комментарии в код (включая функции)\n",
    "\n",
    "- Сохранить результат в файл (любого типа, но рекомендуется html или png)"
   ]
  },
  {
   "cell_type": "markdown",
   "metadata": {},
   "source": [
    "### Пункт #1. Рисуем таблицу умножения в pandas"
   ]
  },
  {
   "cell_type": "code",
   "execution_count": 1,
   "metadata": {},
   "outputs": [],
   "source": [
    "import pandas #импортируем модули\n",
    "import numpy"
   ]
  },
  {
   "cell_type": "code",
   "execution_count": 2,
   "metadata": {},
   "outputs": [
    {
     "name": "stdout",
     "output_type": "stream",
     "text": [
      "[['10x10' '10x11' '10x12' ... '10x97' '10x98' '10x99']\n",
      " ['11x10' '11x11' '11x12' ... '11x97' '11x98' '11x99']\n",
      " ['12x10' '12x11' '12x12' ... '12x97' '12x98' '12x99']\n",
      " ...\n",
      " ['97x10' '97x11' '97x12' ... '97x97' '97x98' '97x99']\n",
      " ['98x10' '98x11' '98x12' ... '98x97' '98x98' '98x99']\n",
      " ['99x10' '99x11' '99x12' ... '99x97' '99x98' '99x99']]\n"
     ]
    }
   ],
   "source": [
    "# генерируем numpy массив из перемноженных чисел 10-99\n",
    "L = numpy.array([str(x) + 'x' + str(y) for x in range(10,100) for y in range(10,100)])\n",
    "# придаем ему нужные очертания\n",
    "L = L.reshape(90,90)\n",
    "# смотрим, что получилось\n",
    "print(L)"
   ]
  },
  {
   "cell_type": "code",
   "execution_count": 3,
   "metadata": {},
   "outputs": [
    {
     "name": "stdout",
     "output_type": "stream",
     "text": [
      "       10     11     12     13     14\n",
      "10  10x10  10x11  10x12  10x13  10x14\n",
      "11  11x10  11x11  11x12  11x13  11x14\n",
      "12  12x10  12x11  12x12  12x13  12x14\n",
      "13  13x10  13x11  13x12  13x13  13x14\n",
      "14  14x10  14x11  14x12  14x13  14x14\n"
     ]
    }
   ],
   "source": [
    "# сделаем красивую табличку с помощью pandas\n",
    "df = pandas.DataFrame(L, index = range(10,100), columns = range(10,100))\n",
    "# проверим ее красоту\n",
    "print(df.iloc[0:5,0:5])"
   ]
  },
  {
   "cell_type": "markdown",
   "metadata": {},
   "source": [
    "### Пункт #2. Запускаем схему мудреца"
   ]
  },
  {
   "cell_type": "markdown",
   "metadata": {},
   "source": [
    "В этой части программы мы пишем функцию, которая считает умножение с помощью схемы мудреца и сравниваем ее результат с традиционным умножением. В результате нам необходимо получить два массива: \n",
    "1. проходные для схемы мудреца варианты\n",
    "2. проходные варианты, но с оговоркой о необходимости проверить количество цифр"
   ]
  },
  {
   "cell_type": "code",
   "execution_count": 4,
   "metadata": {},
   "outputs": [
    {
     "name": "stdout",
     "output_type": "stream",
     "text": [
      "В 500 комбинациях схема мудреца работает, а в 36 нужно добавить 0 перед последней цифрой, чтобы схема работала корректно\n"
     ]
    }
   ],
   "source": [
    "# собственно функция, в которой реализована схема\n",
    "def wisdom_multiplication(x, y):   \n",
    "    p1 = str(100 - ((100 - x) + (100 - y))) #первые две цифры\n",
    "    p2 = str((100-x) * (100-y)) # последние цифры (или цифра)\n",
    "    p2 = '0' + p2 if len(p2) == 1 else p2 #тут проверяем нужно ли добавить 0\n",
    "    return  int(p1 + p2) #возвращаем конкатенацию\n",
    "\n",
    "# список, где схема мудреца работает без оговорок и с оговорками\n",
    "Wisdom_list = [(str(x) + 'x' + str(y), str(x * y)) for x in range(10,100) for y in range(10,100) if wisdom_multiplication(x,y) == x * y]\n",
    "\n",
    "# список, где схема мудреца работает с оговорками\n",
    "AlmostWisdom_list = [x[0] for x in Wisdom_list if x[1][-2] == '0']\n",
    "\n",
    "#преобразуем первый список из списка кортежей в список без повторений с AlmostWisdom_list\n",
    "Wisdom_list = [x[0] for x in Wisdom_list if x[1][-2] != '0']\n",
    "\n",
    "# давайте посмотрим, сколько у нас рабочих вариантов\n",
    "print(\"В {} комбинациях схема мудреца работает, а в {} нужно добавить 0 перед последней цифрой, чтобы схема работала корректно\".format(len(Wisdom_list), len(AlmostWisdom_list)))"
   ]
  },
  {
   "cell_type": "code",
   "execution_count": 6,
   "metadata": {},
   "outputs": [
    {
     "name": "stdout",
     "output_type": "stream",
     "text": [
      "36\n"
     ]
    }
   ],
   "source": [
    "print(len(AlmostWisdom_list))"
   ]
  },
  {
   "cell_type": "markdown",
   "metadata": {},
   "source": [
    "### Пункт #3. Время красить"
   ]
  },
  {
   "cell_type": "code",
   "execution_count": null,
   "metadata": {},
   "outputs": [],
   "source": [
    "#создадим функцию присвоения цвета\n",
    "def colorhunt(x):\n",
    "    if x in AlmostWisdom_list:\n",
    "        color = 'red'\n",
    "    else:\n",
    "        color = 'green' if x in Wisdom_list else 'black'\n",
    "    return 'color: %s' % color\n"
   ]
  },
  {
   "cell_type": "code",
   "execution_count": null,
   "metadata": {},
   "outputs": [],
   "source": [
    "#  присвоим цвет и выведем таблицу\n",
    "pandas.set_option('display.max_rows', 100)\n",
    "pandas.set_option('display.max_columns', 100)\n",
    "pandas.set_option('display.width', 1000)\n",
    "s = df.style.applymap(colorhunt)\n",
    "s"
   ]
  },
  {
   "cell_type": "code",
   "execution_count": null,
   "metadata": {},
   "outputs": [],
   "source": [
    "# сохраним в html файл\n",
    "with open('33_Wisdom Multiplication.html', 'w') as f:\n",
    "    f.write(s.render())"
   ]
  },
  {
   "cell_type": "markdown",
   "metadata": {},
   "source": [
    "Файл с итоговой таблицей сохранен\n",
    "\n",
    "\n",
    "Пока!"
   ]
  },
  {
   "cell_type": "code",
   "execution_count": null,
   "metadata": {},
   "outputs": [],
   "source": []
  }
 ],
 "metadata": {
  "kernelspec": {
   "display_name": "Python 3",
   "language": "python",
   "name": "python3"
  },
  "language_info": {
   "codemirror_mode": {
    "name": "ipython",
    "version": 3
   },
   "file_extension": ".py",
   "mimetype": "text/x-python",
   "name": "python",
   "nbconvert_exporter": "python",
   "pygments_lexer": "ipython3",
   "version": "3.9.5"
  }
 },
 "nbformat": 4,
 "nbformat_minor": 4
}
