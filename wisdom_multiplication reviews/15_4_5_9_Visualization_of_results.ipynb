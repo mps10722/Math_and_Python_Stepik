{
 "cells": [
  {
   "cell_type": "markdown",
   "metadata": {},
   "source": [
    "# Практикум по математике и Python\n",
    "Курс 3356 на stepik.org"
   ]
  },
  {
   "cell_type": "markdown",
   "metadata": {},
   "source": [
    "## [4.5.9 Визуализация результатов](https://stepik.org/lesson/240851/step/9?unit=213481)\n",
    "### Описание задания\n",
    "\n",
    "В данной задаче нам необходимо визуализировать полученные результаты, а именно:\n",
    "\n",
    "- Построить таблицу умножения двузначных чисел (от 10 до 99), без сокращений. рекомендуется заполнять таблицу записями вида NxM, а не результатами (т.е. таблица очень большая и в середине не видно индексов столбцов и строк).\n",
    "- Визуально отметить те ячейки таблицы, где работает \"схема мудреца\" (разными цветами те где достаточно схемы без проверки на разделитель 0 внутри и те, где это является необходимым условием верного ответа)\n",
    "- Добавить комментарии в код (включая функции)\n",
    "- Сохранить результат в файл (любого типа, но рекомендуется html или png)\n",
    "\n",
    "jupyter Notebook с кодом, реализующим данный функционал необходимо загрузить в качестве ответа.\n",
    "\n",
    " \n",
    "\n",
    "Для решения задачи потребуется модуль pandas.\n",
    "\n",
    "Не рекомендуется использовать дополнительные модули, которые не устанавливаются вместе с Anaconda.\n",
    "\n",
    "Укажите версию python, используемую вами для решения."
   ]
  },
  {
   "cell_type": "markdown",
   "metadata": {},
   "source": [
    "## Решение\n",
    "Для решения использовался python версии 3.8.6.\n",
    "\n",
    "После выполнения кода в текущем каталоге создается [файл wisdom_multiplication.html](wisdom_multiplication.html) в кодировке UTF-8, раскрашенный в соответствии с заданием."
   ]
  },
  {
   "cell_type": "code",
   "execution_count": 1,
   "metadata": {},
   "outputs": [],
   "source": [
    "import pandas as pd"
   ]
  },
  {
   "cell_type": "markdown",
   "metadata": {},
   "source": [
    "Функция умножения по \"схеме мудреца\""
   ]
  },
  {
   "cell_type": "code",
   "execution_count": 2,
   "metadata": {},
   "outputs": [],
   "source": [
    "def wisdom_multiplication(x, y, length_check=True):\n",
    "    \"\"\"\n",
    "    Функция умножения по \"схеме мудреца\".\n",
    "    Параметры:\n",
    "    x, y - целые числа от 10 до 99\n",
    "    length_check - флаг, показывающий нужна ли проверка,\n",
    "    что правая половина числа состоит из двух цифр.\n",
    "    Если проверка нужна, то правая половина дополняется нулем,\n",
    "    если длина ее меньше 2\n",
    "    \"\"\"\n",
    "    n1 = str(x + y - 100)\n",
    "    n2 = str((100 - x) * (100 - y))\n",
    "    if length_check:\n",
    "        n2 = n2.zfill(2)\n",
    "    return int(n1 +\n",
    "               n2)  # Согласно заданию просто склеиваем две строки из чисел"
   ]
  },
  {
   "cell_type": "code",
   "execution_count": 3,
   "metadata": {},
   "outputs": [],
   "source": [
    "def numgen_func():\n",
    "    \"\"\"\n",
    "    Функция генерации данных для dataframe\n",
    "    Из функции вызывается функция умножения по \"схеме мудреца\"\n",
    "    \"\"\"\n",
    "    for x in range(10, 100):\n",
    "        for y in range(10, 100):\n",
    "            yield (f\"{x} x {y} =\", x * y, wisdom_multiplication(x, y, True),\n",
    "                   wisdom_multiplication(x, y, False))"
   ]
  },
  {
   "cell_type": "markdown",
   "metadata": {},
   "source": [
    "Создаем dataframe с данными:\n",
    "- первая колонка \"Числа\" - запись чисел ввиде A x B =;\n",
    "- вторая колонка \"Произведение\"- \"обычное\" произведение указанных чисел;\n",
    "- третья колонка \"СМ с проверкой\" - произведение по \"схеме мудреца\" с проверкой на длину второй части числа;\n",
    "- четвертая колонка \"СМ без проверки\" - произведение по \"схеме мудреца\" без проверки на длину второй части числа."
   ]
  },
  {
   "cell_type": "code",
   "execution_count": 4,
   "metadata": {},
   "outputs": [],
   "source": [
    "H_N = \"Числа\"\n",
    "H_P = \"Произведение\"\n",
    "H_W_CHK = \"СМ с проверкой\"\n",
    "H_W = \"СМ без проверки\""
   ]
  },
  {
   "cell_type": "code",
   "execution_count": 5,
   "metadata": {},
   "outputs": [],
   "source": [
    "df = pd.DataFrame(data=numgen_func(), columns=(H_N, H_P, H_W_CHK, H_W))"
   ]
  },
  {
   "cell_type": "markdown",
   "metadata": {},
   "source": [
    "Задаем цветовую схему"
   ]
  },
  {
   "cell_type": "code",
   "execution_count": 6,
   "metadata": {},
   "outputs": [],
   "source": [
    "color_good = \"#5cb467\"  # умножение по указанной схеме совпадает с обычным умножением\n",
    "# умножение по \"схеме мудреца\" без проверки не совпадает с обычным умножением\n",
    "color_ucheck = \"#c5a13d\"\n",
    "color_bad = \"#f5a3f1\"  # умножением по \"схеме мудреца\" НЕ совпадает с обычным умножением"
   ]
  },
  {
   "cell_type": "markdown",
   "metadata": {},
   "source": [
    "Функция раскраски ячеек"
   ]
  },
  {
   "cell_type": "code",
   "execution_count": 7,
   "metadata": {},
   "outputs": [],
   "source": [
    "def color_results(row):\n",
    "    \"\"\"\n",
    "    Функция определяет цвета для ячеек с данными в зависимости от условий задачи.\n",
    "    Функция будет вызываться для каждой строки dataframe (axis=1).\n",
    "    Для двух первых столбцов подкраска нейтральная.\n",
    "    \"\"\"\n",
    "    bcolors = ['background-color: #d8f3f3', 'background-color: #d8f3f3']\n",
    "    if row[H_P] == row[H_W_CHK]:\n",
    "        color_chk = color_good\n",
    "        color_unchk = color_good\n",
    "    else:\n",
    "        color_chk = color_bad\n",
    "        color_unchk = color_bad\n",
    "\n",
    "    if row[H_W_CHK] != row[H_W]:\n",
    "        color_unchk = color_ucheck\n",
    "    return bcolors + [\n",
    "        f'background-color: {color_chk}', f'background-color: {color_unchk}'\n",
    "    ]"
   ]
  },
  {
   "cell_type": "markdown",
   "metadata": {},
   "source": [
    "Стили разных элементов таблицы"
   ]
  },
  {
   "cell_type": "code",
   "execution_count": 8,
   "metadata": {},
   "outputs": [],
   "source": [
    "# Заголовок таблицы\n",
    "caption_props = [('color', 'blue'), ('font-size', '18px')]\n",
    "# Заголовки столбцов\n",
    "th_props = [('font-size', '10px'), ('text-align', 'center'),\n",
    "            ('font-weight', 'bold'), ('color', '#6d6d6d'),\n",
    "            ('background-color', '#f7f7f9')]\n",
    "# Содержимое таблицы\n",
    "tbody_props =[('font-size', '12px'), ('text-align', 'center')]\n",
    "\n",
    "# Собираем стили вместе\n",
    "styles = [\n",
    "    dict(selector=\"th\", props=th_props),\n",
    "    dict(selector=\"tbody\", props=tbody_props),\n",
    "    dict(selector=\"caption\", props=caption_props)\n",
    "]"
   ]
  },
  {
   "cell_type": "markdown",
   "metadata": {},
   "source": [
    "Применение стилей для dataframe"
   ]
  },
  {
   "cell_type": "code",
   "execution_count": 9,
   "metadata": {},
   "outputs": [],
   "source": [
    "html = df.style.set_caption(\n",
    "    'Сравнение обычного умножения с умножением по \"схеме мудреца\".').apply(\n",
    "        color_results, axis=1).set_table_styles(styles).hide_index().render()"
   ]
  },
  {
   "cell_type": "markdown",
   "metadata": {},
   "source": [
    "Сохранение в файл"
   ]
  },
  {
   "cell_type": "code",
   "execution_count": 10,
   "metadata": {},
   "outputs": [],
   "source": [
    "with open('15_wisdom_multiplication.html', 'w') as f:\n",
    "    f.write(html)"
   ]
  },
  {
   "cell_type": "markdown",
   "metadata": {},
   "source": [
    "__Таблица сохранена в файл wisdom_multiplication.html__  \n",
    "Цвет строк в таблице:\n",
    "\n",
    "- <code style=\"background:#5cb467;color:black\">Когда обычное умножение совпадает со схемой мудреца.</code>\n",
    "- <code style=\"background:#c5a13d;color:black\">Когда обычное умножение НЕ совпадает со схемой мудреца без проверки.</code>\n",
    "- <code style=\"background:#f5a3f1;color:black\">Когда обычное умножение НЕ совпадает со схемой мудреца.</code>"
   ]
  },
  {
   "cell_type": "code",
   "execution_count": null,
   "metadata": {},
   "outputs": [],
   "source": []
  }
 ],
 "metadata": {
  "kernelspec": {
   "display_name": "Python 3",
   "language": "python",
   "name": "python3"
  },
  "language_info": {
   "codemirror_mode": {
    "name": "ipython",
    "version": 3
   },
   "file_extension": ".py",
   "mimetype": "text/x-python",
   "name": "python",
   "nbconvert_exporter": "python",
   "pygments_lexer": "ipython3",
   "version": "3.9.5"
  },
  "nbTranslate": {
   "displayLangs": [
    "*"
   ],
   "hotkey": "alt-t",
   "langInMainMenu": true,
   "sourceLang": "en",
   "targetLang": "ru",
   "useGoogleTranslate": true
  }
 },
 "nbformat": 4,
 "nbformat_minor": 4
}
