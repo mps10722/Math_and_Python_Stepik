{
 "cells": [
  {
   "cell_type": "code",
   "execution_count": 1,
   "metadata": {},
   "outputs": [],
   "source": [
    "import pandas as pd\n",
    "\n",
    "def wisdom_multiplication(z, length_check = True):\n",
    "    x = int(z.split('x')[0])\n",
    "    y = int(z.split('x')[1])\n",
    "    \n",
    "    first = str(100 - ((100 - x) + (100 - y)))\n",
    "    second = str((100 - x) * (100 - y))\n",
    "    third = str(x * y)\n",
    "    \n",
    "    if (first + second) == third:\n",
    "        return 'G'\n",
    "    \n",
    "    elif length_check and len(second) == 1:\n",
    "        second = '0' + second\n",
    "        if (first + second) == third:\n",
    "            return 'Y'\n",
    "    else:\n",
    "        return 'R'"
   ]
  },
  {
   "cell_type": "code",
   "execution_count": 2,
   "metadata": {},
   "outputs": [],
   "source": [
    "def color(z):\n",
    "    if wisdom_multiplication(z) == 'G':\n",
    "        return 'background-color: green'\n",
    "    elif wisdom_multiplication(z, True) == 'Y':\n",
    "        return 'background-color: yellow'\n",
    "    elif wisdom_multiplication(z, True) == 'R':\n",
    "        return 'background-color: red'"
   ]
  },
  {
   "cell_type": "code",
   "execution_count": 3,
   "metadata": {},
   "outputs": [
    {
     "name": "stderr",
     "output_type": "stream",
     "text": [
      "<ipython-input-3-494bfc91f893>:9: SettingWithCopyWarning: \n",
      "A value is trying to be set on a copy of a slice from a DataFrame\n",
      "\n",
      "See the caveats in the documentation: https://pandas.pydata.org/pandas-docs/stable/user_guide/indexing.html#returning-a-view-versus-a-copy\n",
      "  table[i][j] = f'{i}x{j}'\n",
      "c:\\users\\mps10722\\documents\\python\\learning\\практикум по математике и python\\venv\\lib\\site-packages\\pandas\\core\\indexing.py:1637: SettingWithCopyWarning: \n",
      "A value is trying to be set on a copy of a slice from a DataFrame\n",
      "\n",
      "See the caveats in the documentation: https://pandas.pydata.org/pandas-docs/stable/user_guide/indexing.html#returning-a-view-versus-a-copy\n",
      "  self._setitem_single_block(indexer, value, name)\n"
     ]
    }
   ],
   "source": [
    "import numpy as np\n",
    "table = pd.DataFrame(np.zeros((90,90), dtype = int))\n",
    "\n",
    "table.columns = [i for i in range(10,100)]\n",
    "table.index = [i for i in range(10,100)]\n",
    "\n",
    "for i in table.index:\n",
    "    for j in table.columns:\n",
    "        table[i][j] = f'{i}x{j}'\n",
    "\n",
    "with open('27_result.html', 'w') as file:\n",
    "    file.write(table.style.applymap(lambda z: color(z)).render())"
   ]
  }
 ],
 "metadata": {
  "kernelspec": {
   "display_name": "Python 3",
   "language": "python",
   "name": "python3"
  },
  "language_info": {
   "codemirror_mode": {
    "name": "ipython",
    "version": 3
   },
   "file_extension": ".py",
   "mimetype": "text/x-python",
   "name": "python",
   "nbconvert_exporter": "python",
   "pygments_lexer": "ipython3",
   "version": "3.9.5"
  }
 },
 "nbformat": 4,
 "nbformat_minor": 4
}
