{
 "cells": [
  {
   "cell_type": "markdown",
   "metadata": {
    "id": "MacEcrKC-tw0"
   },
   "source": [
    "Python 3.6.9"
   ]
  },
  {
   "cell_type": "code",
   "execution_count": 1,
   "metadata": {
    "id": "hfYKjuE8-q7R"
   },
   "outputs": [],
   "source": [
    "import pandas as pd\n",
    "import numpy as np"
   ]
  },
  {
   "cell_type": "code",
   "execution_count": 2,
   "metadata": {
    "id": "hcnkRHks_AW5"
   },
   "outputs": [],
   "source": [
    "def wisdom_multiplication(x: int, y: int, length_check=True):\n",
    "    \"\"\"Функция умножения двузначных чисел по схеме мудреца\n",
    "    Используется функцией color_cells для определения цвета ячейки\n",
    "    Возвразает 1, если требуется проверка на разделитель 0\n",
    "    Возвращает 2, если работает без проверок\n",
    "    В остальных случаях возращает 0\"\"\"\n",
    "    first_two = str(100 - ((100 - x) + (100 - y)))\n",
    "    second_two = str((100 - x) * (100 - y))\n",
    "    flag = False\n",
    "    if length_check and int(second_two) // 10 == 0:\n",
    "        second_two = '0' + second_two\n",
    "        flag = True\n",
    "    if (int(first_two + second_two) == x * y) and flag:\n",
    "        return 1\n",
    "    elif (int(first_two + second_two) == x * y) and not flag:\n",
    "        return 2\n",
    "    return 0"
   ]
  },
  {
   "cell_type": "code",
   "execution_count": 3,
   "metadata": {
    "id": "6blM-eDYJ7iQ"
   },
   "outputs": [],
   "source": [
    "def color_cells(val):\n",
    "    \"\"\"\n",
    "    Функция возвращает html тег background-color со значением цвета ячейки\n",
    "    в зависимости от возвращаемых значений функцией wisdom_multiplication\n",
    "    \"\"\"\n",
    "    color = ''\n",
    "    xy = val.split('x')\n",
    "    if wisdom_multiplication(int(xy[0]), int(xy[-1])) == 1:\n",
    "        color = 'yellow'\n",
    "    elif wisdom_multiplication(int(xy[0]), int(xy[-1])) == 2:\n",
    "        color = 'green'\n",
    "    return f'background-color: {color}'"
   ]
  },
  {
   "cell_type": "code",
   "execution_count": 4,
   "metadata": {
    "colab": {
     "base_uri": "https://localhost:8080/",
     "height": 1000
    },
    "id": "NNYMagaj_JBe",
    "outputId": "e869b414-8d5e-4c80-a999-e63d4a880184"
   },
   "outputs": [],
   "source": [
    "x = np.arange(10, 100)\n",
    "# инициализация датафрейма\n",
    "table = pd.DataFrame([[f'{i}x{j}' for j in x] for i in x], index=x, columns=x)\n",
    "# перекрашивание ячеек\n",
    "table = table.style.applymap(color_cells)\n",
    "# экспорт в html\n",
    "html = table.render()\n",
    "with open(\"80_index.html\", \"w\") as file:\n",
    "    file.write(html)"
   ]
  },
  {
   "cell_type": "code",
   "execution_count": null,
   "metadata": {},
   "outputs": [],
   "source": []
  }
 ],
 "metadata": {
  "colab": {
   "collapsed_sections": [],
   "name": "Таблица умножения.ipynb",
   "provenance": []
  },
  "kernelspec": {
   "display_name": "Python 3",
   "language": "python",
   "name": "python3"
  },
  "language_info": {
   "codemirror_mode": {
    "name": "ipython",
    "version": 3
   },
   "file_extension": ".py",
   "mimetype": "text/x-python",
   "name": "python",
   "nbconvert_exporter": "python",
   "pygments_lexer": "ipython3",
   "version": "3.9.5"
  }
 },
 "nbformat": 4,
 "nbformat_minor": 1
}
