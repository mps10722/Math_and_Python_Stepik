{
 "cells": [
  {
   "cell_type": "code",
   "execution_count": 1,
   "metadata": {},
   "outputs": [],
   "source": [
    "import pandas as pd\n",
    "import numpy as np\n",
    "\n",
    "def multiplication_check_list(start = 10, stop = 99):\n",
    "    dx = []\n",
    "    for x in range(start, stop + 1):\n",
    "        dy = []\n",
    "        for y in range(start, stop + 1):\n",
    "            d1, d2 = 100 - ((100 - x) + (100 - y)), (100 - x) * (100 - y)\n",
    "            dy.append((f'{x}x{y}', (int(f'{d1}{d2}') == x * y) + (d1 * 100 + d2 == x * y)))\n",
    "        dx.append(dy)\n",
    "    return dx\n",
    "\n",
    "def st_colors(s):\n",
    "    return 'background-color:' + colors[s[1]]\n",
    "\n",
    "start = 10\n",
    "stop = 99\n",
    "data = multiplication_check_list(start, stop)\n",
    "r = range(start, stop + 1)\n",
    "colors = ['white', 'yellow', 'green']\n",
    "\n",
    "df = pd.DataFrame(data, r, r)"
   ]
  },
  {
   "cell_type": "code",
   "execution_count": 2,
   "metadata": {
    "scrolled": true
   },
   "outputs": [],
   "source": [
    "df.applymap(lambda x: x[0])\n",
    "df.style.applymap(st_colors)\n",
    "with open('62_file.html', 'w') as f:\n",
    "    f.write(df.style.applymap(st_colors).render())"
   ]
  },
  {
   "cell_type": "code",
   "execution_count": null,
   "metadata": {},
   "outputs": [],
   "source": []
  }
 ],
 "metadata": {
  "kernelspec": {
   "display_name": "Python 3",
   "language": "python",
   "name": "python3"
  },
  "language_info": {
   "codemirror_mode": {
    "name": "ipython",
    "version": 3
   },
   "file_extension": ".py",
   "mimetype": "text/x-python",
   "name": "python",
   "nbconvert_exporter": "python",
   "pygments_lexer": "ipython3",
   "version": "3.9.5"
  }
 },
 "nbformat": 4,
 "nbformat_minor": 4
}
