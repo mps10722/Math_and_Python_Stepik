{
 "cells": [
  {
   "cell_type": "code",
   "execution_count": 1,
   "metadata": {},
   "outputs": [],
   "source": [
    "import numpy as np\n",
    "import pandas as pd"
   ]
  },
  {
   "cell_type": "code",
   "execution_count": 2,
   "metadata": {},
   "outputs": [],
   "source": [
    "# Наполняем датафрэйм\n",
    "d = pd.DataFrame()\n",
    "for i in range(10,100):\n",
    "    s = pd.Series(np.arange(10,100)).map((str(i)+'x{}').format)\n",
    "    d = d.append(pd.DataFrame(s).transpose())\n",
    "d.index, d.columns = np.arange(10,100), np.arange(10,100)"
   ]
  },
  {
   "cell_type": "code",
   "execution_count": 3,
   "metadata": {},
   "outputs": [],
   "source": [
    "def wisdom_multiplication(x, y, length_check = True):\n",
    "    '''\n",
    "    Возвращает кортеж из 2-х значений:\n",
    "    True/False - схема работает/не работает\n",
    "    True/False - проверка на 0 нужна/не нужна\n",
    "    '''\n",
    "    add_zero = False\n",
    "    a, b = 100-x, 100-y\n",
    "    first_numbers = str(100-(a+b))\n",
    "    last_numbers = str(a*b)\n",
    "    if length_check:\n",
    "        if len(last_numbers) == 1:\n",
    "            last_numbers = str(0) + last_numbers\n",
    "            add_zero = True\n",
    "    return (int(first_numbers + last_numbers) == x*y, add_zero)"
   ]
  },
  {
   "cell_type": "code",
   "execution_count": 5,
   "metadata": {},
   "outputs": [],
   "source": [
    "def coloration(val):\n",
    "    '''\n",
    "    Возвращает цвет:\n",
    "    Черный - схема работает, проверка на 0 не нужна\n",
    "    Зеленый - схема работает, нужна проверка на 0\n",
    "    Красный - схема не работает\n",
    "    '''\n",
    "    a, b = int(val[:2]), int(val[3:])\n",
    "    if wisdom_multiplication(a, b)[0]:\n",
    "        if wisdom_multiplication(a, b)[1]:\n",
    "            color = 'green'\n",
    "        else:\n",
    "            color = 'black'\n",
    "    else:\n",
    "        color = 'red'\n",
    "    return 'color: %s' % color"
   ]
  },
  {
   "cell_type": "code",
   "execution_count": 6,
   "metadata": {},
   "outputs": [],
   "source": [
    "# Красным обозначены значения, где схема не работает, зеленым, где требуется проверка на 0\n",
    "html = d.style.applymap(coloration).render()"
   ]
  },
  {
   "cell_type": "code",
   "execution_count": 7,
   "metadata": {},
   "outputs": [],
   "source": [
    "with open('index.html', 'w') as f:\n",
    "    f.write(html)"
   ]
  },
  {
   "cell_type": "code",
   "execution_count": null,
   "metadata": {},
   "outputs": [],
   "source": []
  }
 ],
 "metadata": {
  "kernelspec": {
   "display_name": "Python 3",
   "language": "python",
   "name": "python3"
  },
  "language_info": {
   "codemirror_mode": {
    "name": "ipython",
    "version": 3
   },
   "file_extension": ".py",
   "mimetype": "text/x-python",
   "name": "python",
   "nbconvert_exporter": "python",
   "pygments_lexer": "ipython3",
   "version": "3.9.5"
  }
 },
 "nbformat": 4,
 "nbformat_minor": 2
}
