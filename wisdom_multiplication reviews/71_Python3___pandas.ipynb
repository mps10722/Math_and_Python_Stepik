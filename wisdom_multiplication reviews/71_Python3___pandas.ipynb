{
 "cells": [
  {
   "cell_type": "code",
   "execution_count": 1,
   "metadata": {},
   "outputs": [],
   "source": [
    "import numpy as np\n",
    "import pandas as pd"
   ]
  },
  {
   "cell_type": "code",
   "execution_count": 2,
   "metadata": {},
   "outputs": [],
   "source": [
    "\"\"\"\n",
    "pd.set_option(args) - increasing the limit of displayed rows and columns\n",
    "\"\"\"\n",
    "pd.set_option('display.max_rows', 100)\n",
    "pd.set_option('display.max_columns', 100)\n",
    "\n",
    "#multiplication table initialization \"NxM\"\n",
    "nda1 = np.array([[f\"{i}x{j}\" for i in range(10, 100)] for j in range(10, 100)])\n",
    "\n",
    "#frame initialization, the values of the indices of rows and columns are the same as the values of the multipliers\n",
    "df = pd.DataFrame(nda1, index = [l for l in range(10, 100)], columns = [l for l in range(10, 100)])"
   ]
  },
  {
   "cell_type": "code",
   "execution_count": 3,
   "metadata": {},
   "outputs": [],
   "source": [
    "def multiplication_check(x, y, length_check):\n",
    "    return x*y == wisdom_multiplication(x,y, length_check)\n",
    "\n",
    "def wisdom_multiplication(x, y, length_check = True):\n",
    "    \"\"\"\n",
    "    Simplified multiplication of two-digit numbers. https://stepik.org/lesson/240851/step/7?unit=213481\n",
    "    returns the \"glued\" number (int)\n",
    "    \"\"\"\n",
    "    a = 100 - x\n",
    "    b = 100 - y\n",
    "    f = 100 - (a+b)\n",
    "    m = a * b\n",
    "    res = str(f) + str(m).rjust(2, '0') if length_check else str(f) + str(m)\n",
    "    return int(res)"
   ]
  },
  {
   "cell_type": "code",
   "execution_count": 4,
   "metadata": {},
   "outputs": [],
   "source": [
    "def color(val):\n",
    "    \"\"\"\n",
    "    return color for styling\n",
    "    red - the answer is incorrect even with a length check\n",
    "    brown - answer is correct only with length check\n",
    "    green - the answer is correct\n",
    "    \"\"\"\n",
    "    (x,y) = (int(x) for x in val.split('x'))\n",
    "    if not multiplication_check(x, y, True):\n",
    "        color = 'red'\n",
    "    if multiplication_check(x, y, True):\n",
    "        color = 'brown'\n",
    "    if multiplication_check(x, y, False):\n",
    "        color = 'green'\n",
    "    return 'background-color: %s' % color\n",
    "\n",
    "s = df.style.applymap(color)\n",
    "\n",
    "with open(\"render.html\", 'w') as f:\n",
    "    f.write(s.render())\n",
    "    \n",
    "# #s - visualization\n",
    "#s"
   ]
  }
 ],
 "metadata": {
  "kernelspec": {
   "display_name": "Python 3",
   "language": "python",
   "name": "python3"
  },
  "language_info": {
   "codemirror_mode": {
    "name": "ipython",
    "version": 3
   },
   "file_extension": ".py",
   "mimetype": "text/x-python",
   "name": "python",
   "nbconvert_exporter": "python",
   "pygments_lexer": "ipython3",
   "version": "3.8.5"
  }
 },
 "nbformat": 4,
 "nbformat_minor": 4
}
